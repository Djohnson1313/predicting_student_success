{
 "cells": [
  {
   "cell_type": "markdown",
   "id": "4b65af60-1de2-49de-8844-ee10857ae622",
   "metadata": {},
   "source": [
    "# Predicting Student Success"
   ]
  },
  {
   "cell_type": "markdown",
   "id": "e8635334-ec33-4d74-8db2-2453ccde95c8",
   "metadata": {},
   "source": [
    "---\n",
    "Name : Darryn Johnson\n",
    "\n",
    "Date : 10/23/2024\n",
    "\n",
    "Instructor : Mark Barbour\n",
    "\n",
    "Blog : \n",
    "\n",
    "Pace : flexce : FLEX"
   ]
  },
  {
   "cell_type": "markdown",
   "id": "e8c5a88b-a787-4b38-a9eb-b982ff8b0f0d",
   "metadata": {},
   "source": [
    "---\n",
    "## Sources and Links \n",
    "\n",
    "- Github Repository : [predicting_studnet_success](https://github.com/Djohnson1313/predicting_student_success)\n",
    "\n",
    "- Presentation Link :\n",
    "\n",
    "- Link to dataset metadata :[dataset_metadata](https://github.com/Djohnson1313/predicting_student_success/blob/main/dataset_metadata.ipynb)\n",
    "\n",
    "- Original Kaggle Data Set : [Predict Students Dropout and Academic Success](https://www.kaggle.com/datasets/syedfaizanalii/predict-students-dropout-and-academic-success)\n",
    "\n",
    "- `CHRISP-DM` explination and image : [IBM](https://www.ibm.com/docs/en/spss-modeler/saas?topic=dm-crisp-help-overview)"
   ]
  },
  {
   "cell_type": "markdown",
   "id": "40de3f8d-8b28-42f8-ba6a-c0d5c88ff833",
   "metadata": {},
   "source": [
    "---\n",
    "# Overview\n",
    "\n",
    "- title\n",
    "    - author information\n",
    "        - author name\n",
    "        - date last updated\n",
    "        - instructor\n",
    "        - blog link\n",
    "        - student pace\n",
    "- sources and links\n",
    "- imports\n",
    "- business understanding\n",
    "- data understanding\n",
    "- data distribution\n",
    "- data preparation\n",
    "    - decoding the data\n",
    "- methodoligy\n",
    "    - CHRISP-DM explination\n",
    "- functions\n",
    "- exploritory data analysis\n",
    "- model preparation\n",
    "- modeling\n",
    "    - `RandomForsetClassifier`\n",
    "    - neural network with `Keras`\n",
    "- the final model\n",
    "- conclusion\n",
    "    - evaluation\n",
    "    - review\n",
    "    - next steps"
   ]
  },
  {
   "cell_type": "markdown",
   "id": "50a7cb6d-aeff-4c7c-9da5-5a33ae72f8bc",
   "metadata": {},
   "source": [
    "# Imports"
   ]
  },
  {
   "cell_type": "code",
   "execution_count": 1,
   "id": "c8f7f7e0-2471-48cc-8dbd-60aa5584dc1f",
   "metadata": {},
   "outputs": [],
   "source": [
    "import pandas as pd\n",
    "import numpy as np\n",
    "import matplotlib.pyplot as plt\n",
    "import seaborn as sns\n",
    "from sklearn.pipeline import Pipeline\n",
    "from sklearn.preprocessing import StandardScaler\n",
    "from sklearn.preprocessing import LabelEncoder, StandardScaler\n",
    "from sklearn.model_selection import train_test_split, GridSearchCV\n",
    "from sklearn.ensemble import RandomForestClassifier\n",
    "from sklearn.metrics import (\n",
    "confusion_matrix, ConfusionMatrixDisplay,\n",
    "precision_score, recall_score, \n",
    "accuracy_score, f1_score)\n",
    "from keras import models, layers, optimizers\n",
    "from keras.layers import Dense\n",
    "\n",
    "import warnings\n",
    "#warnings.filterwarnings('ignore')"
   ]
  },
  {
   "cell_type": "markdown",
   "id": "bac25fad-7bd9-466f-83e5-8d381820cbad",
   "metadata": {},
   "source": [
    "# NOTE \n",
    "For the below cell in google colab, it may ask to rename the file. type `y` (lowercase y) into the field. "
   ]
  },
  {
   "cell_type": "code",
   "execution_count": 2,
   "id": "fc1c946a-e2de-49c8-a73e-53fd8092cfa8",
   "metadata": {},
   "outputs": [],
   "source": [
    "#!kaggle datasets download -d syedfaizanalii/predict-students-dropout-and-academic-success\n",
    "#!unzip predict-students-dropout-and-academic-success.zip "
   ]
  },
  {
   "cell_type": "markdown",
   "id": "22461f56-ec6f-4535-b871-3c9d647fb250",
   "metadata": {},
   "source": [
    "---\n",
    "# Business Understanding\n",
    "\n",
    "The purpose of the following notebook is for a loan benefactor to be able to identify studnets who potentially may dropout of school. This is important information due to the risk associated with loaning funds to a student, mainly being getting the loan back. If a student doesnt graduate, they are more likely to not return the amount given.\n",
    "\n",
    "- business objectives\n",
    "    - predict if a student will graduate or dropout\n",
    "        - success is classyifing a student correctly a majority of the time\n",
    "- situation assesment\n",
    "    - resources available\n",
    "        - personal individual data\n",
    "    - resources un-available\n",
    "        - grades of enrolled students\n",
    "        - some encoded data does not have decoded metadata\n",
    "- data mining goals\n",
    "    - assess and understand the data provided\n",
    "- project plan\n",
    "    - produce a usable and reliable prediction model given the accessable information  "
   ]
  },
  {
   "cell_type": "markdown",
   "id": "94a6918d-2ced-4055-a5a0-2b65f54c747d",
   "metadata": {},
   "source": [
    "---\n",
    "# Data Understanding \n",
    "\n",
    "The data we have here is a dataset from [Kaggle](https://www.kaggle.com/datasets/syedfaizanalii/predict-students-dropout-and-academic-success). This data was collected with the intention of predicting the success of a student based on important demographic, academic, and socio-economic factors, which are crucial for predicting a student's academic outcome.\n",
    "\n",
    "The data is as follows : \n",
    "\n",
    "- data properties\n",
    "    - the original data set contains 4424 entries, with each entry being an anonymized student or applicant\n",
    "    - the original data set contains 37 columns.\n",
    "        - a breakdown of these columns is available in [dataset_metadata](https://github.com/Djohnson1313/predicting_student_success/blob/main/dataset_metadata.ipynb)\n",
    "     \n",
    "Let's take a look into the data we have."
   ]
  },
  {
   "cell_type": "code",
   "execution_count": 3,
   "id": "a68a9bad-8e75-4277-80c6-359ba9d811f7",
   "metadata": {},
   "outputs": [],
   "source": [
    "df = pd.read_csv('Predict Student Dropout and Academic Success.csv', sep = \";\")"
   ]
  },
  {
   "cell_type": "code",
   "execution_count": 4,
   "id": "cd5c40f3-381f-4d71-b38d-af97f1c719ac",
   "metadata": {},
   "outputs": [
    {
     "data": {
      "text/html": [
       "<div>\n",
       "<style scoped>\n",
       "    .dataframe tbody tr th:only-of-type {\n",
       "        vertical-align: middle;\n",
       "    }\n",
       "\n",
       "    .dataframe tbody tr th {\n",
       "        vertical-align: top;\n",
       "    }\n",
       "\n",
       "    .dataframe thead th {\n",
       "        text-align: right;\n",
       "    }\n",
       "</style>\n",
       "<table border=\"1\" class=\"dataframe\">\n",
       "  <thead>\n",
       "    <tr style=\"text-align: right;\">\n",
       "      <th></th>\n",
       "      <th>Marital status</th>\n",
       "      <th>Application mode</th>\n",
       "      <th>Application order</th>\n",
       "      <th>Course</th>\n",
       "      <th>Daytime/evening attendance\\t</th>\n",
       "      <th>Previous qualification</th>\n",
       "      <th>Previous qualification (grade)</th>\n",
       "      <th>Nacionality</th>\n",
       "      <th>Mother's qualification</th>\n",
       "      <th>Father's qualification</th>\n",
       "      <th>...</th>\n",
       "      <th>Curricular units 2nd sem (credited)</th>\n",
       "      <th>Curricular units 2nd sem (enrolled)</th>\n",
       "      <th>Curricular units 2nd sem (evaluations)</th>\n",
       "      <th>Curricular units 2nd sem (approved)</th>\n",
       "      <th>Curricular units 2nd sem (grade)</th>\n",
       "      <th>Curricular units 2nd sem (without evaluations)</th>\n",
       "      <th>Unemployment rate</th>\n",
       "      <th>Inflation rate</th>\n",
       "      <th>GDP</th>\n",
       "      <th>Target</th>\n",
       "    </tr>\n",
       "  </thead>\n",
       "  <tbody>\n",
       "    <tr>\n",
       "      <th>0</th>\n",
       "      <td>1</td>\n",
       "      <td>17</td>\n",
       "      <td>5</td>\n",
       "      <td>171</td>\n",
       "      <td>1</td>\n",
       "      <td>1</td>\n",
       "      <td>122.0</td>\n",
       "      <td>1</td>\n",
       "      <td>19</td>\n",
       "      <td>12</td>\n",
       "      <td>...</td>\n",
       "      <td>0</td>\n",
       "      <td>0</td>\n",
       "      <td>0</td>\n",
       "      <td>0</td>\n",
       "      <td>0.000000</td>\n",
       "      <td>0</td>\n",
       "      <td>10.8</td>\n",
       "      <td>1.4</td>\n",
       "      <td>1.74</td>\n",
       "      <td>Dropout</td>\n",
       "    </tr>\n",
       "    <tr>\n",
       "      <th>1</th>\n",
       "      <td>1</td>\n",
       "      <td>15</td>\n",
       "      <td>1</td>\n",
       "      <td>9254</td>\n",
       "      <td>1</td>\n",
       "      <td>1</td>\n",
       "      <td>160.0</td>\n",
       "      <td>1</td>\n",
       "      <td>1</td>\n",
       "      <td>3</td>\n",
       "      <td>...</td>\n",
       "      <td>0</td>\n",
       "      <td>6</td>\n",
       "      <td>6</td>\n",
       "      <td>6</td>\n",
       "      <td>13.666667</td>\n",
       "      <td>0</td>\n",
       "      <td>13.9</td>\n",
       "      <td>-0.3</td>\n",
       "      <td>0.79</td>\n",
       "      <td>Graduate</td>\n",
       "    </tr>\n",
       "    <tr>\n",
       "      <th>2</th>\n",
       "      <td>1</td>\n",
       "      <td>1</td>\n",
       "      <td>5</td>\n",
       "      <td>9070</td>\n",
       "      <td>1</td>\n",
       "      <td>1</td>\n",
       "      <td>122.0</td>\n",
       "      <td>1</td>\n",
       "      <td>37</td>\n",
       "      <td>37</td>\n",
       "      <td>...</td>\n",
       "      <td>0</td>\n",
       "      <td>6</td>\n",
       "      <td>0</td>\n",
       "      <td>0</td>\n",
       "      <td>0.000000</td>\n",
       "      <td>0</td>\n",
       "      <td>10.8</td>\n",
       "      <td>1.4</td>\n",
       "      <td>1.74</td>\n",
       "      <td>Dropout</td>\n",
       "    </tr>\n",
       "    <tr>\n",
       "      <th>3</th>\n",
       "      <td>1</td>\n",
       "      <td>17</td>\n",
       "      <td>2</td>\n",
       "      <td>9773</td>\n",
       "      <td>1</td>\n",
       "      <td>1</td>\n",
       "      <td>122.0</td>\n",
       "      <td>1</td>\n",
       "      <td>38</td>\n",
       "      <td>37</td>\n",
       "      <td>...</td>\n",
       "      <td>0</td>\n",
       "      <td>6</td>\n",
       "      <td>10</td>\n",
       "      <td>5</td>\n",
       "      <td>12.400000</td>\n",
       "      <td>0</td>\n",
       "      <td>9.4</td>\n",
       "      <td>-0.8</td>\n",
       "      <td>-3.12</td>\n",
       "      <td>Graduate</td>\n",
       "    </tr>\n",
       "    <tr>\n",
       "      <th>4</th>\n",
       "      <td>2</td>\n",
       "      <td>39</td>\n",
       "      <td>1</td>\n",
       "      <td>8014</td>\n",
       "      <td>0</td>\n",
       "      <td>1</td>\n",
       "      <td>100.0</td>\n",
       "      <td>1</td>\n",
       "      <td>37</td>\n",
       "      <td>38</td>\n",
       "      <td>...</td>\n",
       "      <td>0</td>\n",
       "      <td>6</td>\n",
       "      <td>6</td>\n",
       "      <td>6</td>\n",
       "      <td>13.000000</td>\n",
       "      <td>0</td>\n",
       "      <td>13.9</td>\n",
       "      <td>-0.3</td>\n",
       "      <td>0.79</td>\n",
       "      <td>Graduate</td>\n",
       "    </tr>\n",
       "  </tbody>\n",
       "</table>\n",
       "<p>5 rows × 37 columns</p>\n",
       "</div>"
      ],
      "text/plain": [
       "   Marital status  Application mode  Application order  Course  \\\n",
       "0               1                17                  5     171   \n",
       "1               1                15                  1    9254   \n",
       "2               1                 1                  5    9070   \n",
       "3               1                17                  2    9773   \n",
       "4               2                39                  1    8014   \n",
       "\n",
       "   Daytime/evening attendance\\t  Previous qualification  \\\n",
       "0                             1                       1   \n",
       "1                             1                       1   \n",
       "2                             1                       1   \n",
       "3                             1                       1   \n",
       "4                             0                       1   \n",
       "\n",
       "   Previous qualification (grade)  Nacionality  Mother's qualification  \\\n",
       "0                           122.0            1                      19   \n",
       "1                           160.0            1                       1   \n",
       "2                           122.0            1                      37   \n",
       "3                           122.0            1                      38   \n",
       "4                           100.0            1                      37   \n",
       "\n",
       "   Father's qualification  ...  Curricular units 2nd sem (credited)  \\\n",
       "0                      12  ...                                    0   \n",
       "1                       3  ...                                    0   \n",
       "2                      37  ...                                    0   \n",
       "3                      37  ...                                    0   \n",
       "4                      38  ...                                    0   \n",
       "\n",
       "   Curricular units 2nd sem (enrolled)  \\\n",
       "0                                    0   \n",
       "1                                    6   \n",
       "2                                    6   \n",
       "3                                    6   \n",
       "4                                    6   \n",
       "\n",
       "   Curricular units 2nd sem (evaluations)  \\\n",
       "0                                       0   \n",
       "1                                       6   \n",
       "2                                       0   \n",
       "3                                      10   \n",
       "4                                       6   \n",
       "\n",
       "   Curricular units 2nd sem (approved)  Curricular units 2nd sem (grade)  \\\n",
       "0                                    0                          0.000000   \n",
       "1                                    6                         13.666667   \n",
       "2                                    0                          0.000000   \n",
       "3                                    5                         12.400000   \n",
       "4                                    6                         13.000000   \n",
       "\n",
       "   Curricular units 2nd sem (without evaluations)  Unemployment rate  \\\n",
       "0                                               0               10.8   \n",
       "1                                               0               13.9   \n",
       "2                                               0               10.8   \n",
       "3                                               0                9.4   \n",
       "4                                               0               13.9   \n",
       "\n",
       "   Inflation rate   GDP    Target  \n",
       "0             1.4  1.74   Dropout  \n",
       "1            -0.3  0.79  Graduate  \n",
       "2             1.4  1.74   Dropout  \n",
       "3            -0.8 -3.12  Graduate  \n",
       "4            -0.3  0.79  Graduate  \n",
       "\n",
       "[5 rows x 37 columns]"
      ]
     },
     "execution_count": 4,
     "metadata": {},
     "output_type": "execute_result"
    }
   ],
   "source": [
    "df.head()"
   ]
  },
  {
   "cell_type": "code",
   "execution_count": 5,
   "id": "6e3591be-d5df-4c67-b750-88737e2c1fab",
   "metadata": {
    "editable": true,
    "slideshow": {
     "slide_type": ""
    },
    "tags": []
   },
   "outputs": [],
   "source": [
    "#df.info()"
   ]
  },
  {
   "cell_type": "code",
   "execution_count": 6,
   "id": "e44a16c4-ac07-4f81-a870-b3e1739c6f7b",
   "metadata": {},
   "outputs": [],
   "source": [
    "#df.isna().sum()"
   ]
  },
  {
   "cell_type": "markdown",
   "id": "1d7b586e-ec6e-4674-912b-474d68c3f5aa",
   "metadata": {},
   "source": [
    "The cells above are comented out due to how large the output is. If you wish to see what they show, delete the # (pound symbol) at the start of the cell. you may need to resart the kernel to get an acurate output."
   ]
  },
  {
   "attachments": {
    "fdd3b737-930b-4681-94cd-75dddf73f373.png": {
     "image/png": "[encoded data removed]"
    }
   },
   "cell_type": "markdown",
   "id": "62acf54f-f8eb-4543-84b4-f1ed37adcee0",
   "metadata": {},
   "source": [
    "---\n",
    "# Data Distribution\n",
    "\n",
    "Here we will look into the distribution of our data. we can see that a majority of our targets are graduates, with dropouts trailing not far behined. More then likely, enrolled will not be used in the modeling process as this model will not be predicting that.\n",
    "\n",
    "<div>\n",
    "<img src = 'attachment:fdd3b737-930b-4681-94cd-75dddf73f373.png' width = '500'/>\n",
    "</div>"
   ]
  },
  {
   "cell_type": "markdown",
   "id": "6a357b4b-359f-4ec6-9e10-ad6055ce4a02",
   "metadata": {},
   "source": [
    "---\n",
    "# Data Preparation\n",
    "\n",
    "This next section assists with the modeling process later on. First we correct some spelling errors, and replace the encoded data with the actual data it represents."
   ]
  },
  {
   "cell_type": "code",
   "execution_count": 7,
   "id": "d04bf7c3-cc38-4816-866b-1885955a2d40",
   "metadata": {},
   "outputs": [],
   "source": [
    "df = df.rename(columns = {'Nacionality' : 'Nationality'})"
   ]
  },
  {
   "cell_type": "code",
   "execution_count": 8,
   "id": "477d09d1-f987-4e14-8d75-2d98858ceceb",
   "metadata": {},
   "outputs": [],
   "source": [
    "df['Nationality'] = df['Nationality'].replace({6 : 3,11 : 4,13 : 5,14 : 6,17 : 7,21 : 8,22 : 9,24 : 10,25 : 11,26 : 12,32 : 13,\n",
    "                                              41 : 14,62 : 15,100 : 16,101 : 17, 103 : 18,105 : 19,108 : 20,109 : 21 }) "
   ]
  },
  {
   "cell_type": "markdown",
   "id": "4e9ea772-91d5-4f00-81bc-874eb4801891",
   "metadata": {},
   "source": [
    "## Decoding the Data\n",
    "\n",
    "Here we decode the data, which simply means we are taking the original data, encoded as numbers, and replacing them with what they actually represent. There are several areas where a number is being replaced with `unknown`. This is because is some metrics there are included numbers that dont have metadata associated with it. meaning we have no way of knowing what the numbers represent.  "
   ]
  },
  {
   "cell_type": "code",
   "execution_count": 9,
   "id": "41ba52c1-08bc-41de-b0d1-d63e466d16c7",
   "metadata": {},
   "outputs": [],
   "source": [
    "df['Marital status'] = df['Marital status'].replace({\n",
    "1 : 'single', 2 : 'married', 3 : 'widower', 4 : 'divorced', 5 : 'facto union', 6 : 'ligally seperated'})"
   ]
  },
  {
   "cell_type": "code",
   "execution_count": 10,
   "id": "c810612b-b096-46ff-8767-fe85789c5a25",
   "metadata": {},
   "outputs": [],
   "source": [
    "df['Application mode'] = df['Application mode'].replace({\n",
    "1 : '1st phase - general contingent', 2 : 'Ordinance No. 612/93 5 - 1st phase - special contingent (Azores Island)', \n",
    "7 : 'Holders of other higher courses', 10 : 'Ordinance No. 854-B/99', 15 : 'International student (bachelor)', \n",
    "16 : '1st phase - special contingent (Madeira Island)', 17 : '2nd phase - general contingent',\n",
    "18 : '3rd phase - general contingent', 26 : 'Ordinance No. 533-A/99, item b2) (Different Plan)', \n",
    "27 : 'Ordinance No. 533-A/99, item b3 (Other Institution)', 39 : 'Over 23 years old', \n",
    "42 : 'Transfer', 43 : 'Change of course', 44 : 'Technological specialization diploma holders', 51 : 'Change of institution/course', \n",
    "53 : 'Short cycle diploma holders', 57 : 'Change of institution/course (International)'})"
   ]
  },
  {
   "cell_type": "code",
   "execution_count": 11,
   "id": "a61644b7-d11e-4fc3-bac1-e1808261440a",
   "metadata": {},
   "outputs": [],
   "source": [
    "df['Course'] = df['Course'].replace({\n",
    "33 : 'Biofuel Production Technologies', 171 : 'Animation and Multimedia Design', 8014 : 'Social Service (evening attendance)', \n",
    "9003 : 'Agronomy 9070 - Communication Design',9085 : 'Veterinary Nursing', 9119 : 'Informatics Engineering', 9130 : 'Equinculture', \n",
    "9147 : 'Management', 9238 : 'Social Service', 9254 : 'Tourism', 9500 : 'Nursing', 9556 : 'Oral Hygiene', 9670 : 'Advertising and Marketing Management', \n",
    "9773 : 'Journalism and Communication', 9853 : 'Basic Education', 9991 : 'Management (evening attendance)'})"
   ]
  },
  {
   "cell_type": "code",
   "execution_count": 12,
   "id": "3d4ae79d-156f-4397-9a45-9d7f72a4f736",
   "metadata": {},
   "outputs": [],
   "source": [
    "df['Daytime/evening attendance\t'] = df['Daytime/evening attendance\t'].replace({1 : 'daytime', 0 : 'evening'})"
   ]
  },
  {
   "cell_type": "code",
   "execution_count": 13,
   "id": "54f32bf5-8999-43d8-b58f-b71d649b4608",
   "metadata": {},
   "outputs": [],
   "source": [
    "df['Previous qualification'] = df['Previous qualification'].replace({\n",
    "1 : 'Secondary education', 2 : \"Higher education - bachelor's degree\", 3 : 'Higher education - degree', 4 : \"Higher education - master's\",\n",
    "5 : 'Higher education - doctorate', 6 : 'Frequency of higher education', 9 : '12th year of schooling - not completed', \n",
    "10 : '11th year of schooling - not completed', 12 : 'Other - 11th year of schooling', 14 : '10th year of schooling', \n",
    "15 : '10th year of schooling - not completed', 19 : 'Basic education 3rd cycle (9th/10th/11th year) or equiv', \n",
    "38 : 'Basic education 2nd cycle (6th/7th/8th year) or equiv', 39 : 'Technological specialization course', 40 : 'Higher education - degree (1st cycle)', \n",
    "42 : 'Professional higher technical course', 43 : 'Higher education - master (2nd cycle)'})"
   ]
  },
  {
   "cell_type": "code",
   "execution_count": 14,
   "id": "6bf835dc-8dd3-4d90-bc00-a78adba95b1b",
   "metadata": {},
   "outputs": [],
   "source": [
    "df['Nationality'] = df['Nationality'].replace({\n",
    "1 : 'Portuguese', 2 : 'German', 3 : 'Spanish', 4 : 'Italian', 5 : 'Dutch', 6 : 'English', 7 : 'Lithuanian', 8 : 'Angolan', 9 : 'Cape Verdean', \n",
    "10 : 'Guinean', 11 : 'Mozambican', 12 : 'Santomean', 13 : 'Turkish', 14 : 'Brazilian', 15 : 'Romanian',16 : 'Moldova (Republic of)', 17 : 'Mexican',\n",
    "18 : 'Ukrainian', 19 : 'Russian', 20 : 'Cuban', 21 : 'Colombian'})"
   ]
  },
  {
   "cell_type": "code",
   "execution_count": 15,
   "id": "bbebd83a-ab81-4e2a-9ec8-bd068bdfa4f8",
   "metadata": {},
   "outputs": [],
   "source": [
    "df[\"Mother's qualification\"] = df[\"Mother's qualification\"].replace({\n",
    "1 : 'Secondary Education - 12th Year of Schooling or Eq', 2 : \"Higher Education - Bachelor's Degree\", 3 : 'Higher Education - Degree', \n",
    "4 : \"Higher Education - Master's\", 5 : 'Higher Education - Doctorate', 6 : 'Frequency of Higher Education', \n",
    "9 : '12th Year of Schooling - Not Completed', 10 : '11th Year of Schooling - Not Completed', 11 : '7th Year (Old)', \n",
    "12 : 'Other - 11th Year of Schooling', 14 : '10th Year of Schooling', 18 : 'General commerce course', \n",
    "19 : 'Basic Education 3rd Cycle (9th/10th/11th Year) or Equiv', 22 : 'Technical-professional course', 26 : '7th year of schooling', \n",
    "27 : '2nd cycle of the general high school course', 29 : '9th Year of Schooling - Not Completed', 30 : '8th year of schooling', \n",
    "34 : 'Unknown', 35 : \"Can't read or write\", 36 : 'Can read without having a 4th year of schooling', \n",
    "37 : 'Basic education 1st cycle (4th/5th year) or equiv', 38 : 'Basic Education 2nd Cycle (6th/7th/8th Year) or Equiv', \n",
    "39 : 'Technological specialization course', 40 : 'Higher education - degree (1st cycle)', 41 : 'Specialized higher studies course', \n",
    "42 : 'Professional higher technical course', 43 : 'Higher Education - Master (2nd cycle)', 44 : 'Higher Education - Doctorate (3rd cycle)'})"
   ]
  },
  {
   "cell_type": "code",
   "execution_count": 16,
   "id": "8974ce81-379f-49c9-a33d-eb874b2e8066",
   "metadata": {},
   "outputs": [],
   "source": [
    "df[\"Father's qualification\"] = df[\"Father's qualification\"].replace({\n",
    "1 : 'Secondary Education - 12th Year of Schooling or Eq', 2 : \"Higher Education - Bachelor's Degree\", 3 : 'Higher Education - Degree', \n",
    "4 : \"Higher Education - Master's\", 5 : 'Higher Education - Doctorate', 6 : 'Frequency of Higher Education', \n",
    "9 : '12th Year of Schooling - Not Completed', 10 : '11th Year of Schooling - Not Completed', 11 : '7th Year (Old)', \n",
    "12 : 'Other - 11th Year of Schooling', 14 : '10th Year of Schooling', 18 : 'General commerce course', \n",
    "19 : 'Basic Education 3rd Cycle (9th/10th/11th Year) or Equiv', 22 : 'Technical-professional course', 26 : '7th year of schooling', \n",
    "27 : '2nd cycle of the general high school course', 29 : '9th Year of Schooling - Not Completed', 30 : '8th year of schooling', \n",
    "34 : 'Unknown', 35 : \"Can't read or write\", 36 : 'Can read without having a 4th year of schooling', \n",
    "37 : 'Basic education 1st cycle (4th/5th year) or equiv', 38 : 'Basic Education 2nd Cycle (6th/7th/8th Year) or Equiv', \n",
    "39 : 'Technological specialization course', 40 : 'Higher education - degree (1st cycle)', 41 : 'Specialized higher studies course', \n",
    "42 : 'Professional higher technical course', 43 : 'Higher Education - Master (2nd cycle)', 44 : 'Higher Education - Doctorate (3rd cycle)', \n",
    "33 : 'Unkown',25 : 'Unknown', 20 : 'Unknown', 13 : 'Unknown', 31 : 'Unknown'})"
   ]
  },
  {
   "cell_type": "code",
   "execution_count": 17,
   "id": "227d4cf2-c0ea-4088-b51d-a81463a1fbc6",
   "metadata": {},
   "outputs": [],
   "source": [
    "df[\"Mother's occupation\"] = df[\"Mother's occupation\"].replace({\n",
    "0 : 'Student', 1 : 'Representatives of the Legislative Power and Executive Bodies, Directors, Directors and Executive Managers',\n",
    "2 : 'Specialists in Intellectual and Scientific Activities', 3 : 'Intermediate Level Technicians and Professions', 4 : 'Administrative staff', \n",
    "5 : 'Personal Services, Security and Safety Workers and Sellers', 6 : 'Farmers and Skilled Workers in Agriculture, Fisheries and Forestry', \n",
    "7 : 'Skilled Workers in Industry, Construction and Craftsmen', 8 : 'Installation and Machine Operators and Assembly Workers', 9 : 'Unskilled Workers', \n",
    "10 : 'Armed Forces Professions', 90 : 'Other Situation', 99 : '(blank)', 122 : 'Health professionals', 123 : 'teachers',\n",
    "125 : 'Specialists in information and communication technologies (ICT)', 131 : 'intermediate level science and engineering technicians and professions',\n",
    "132 : 'Technicians and professionals, of intermediate level of health', \n",
    "134 : 'Intermediate level technicians from legal, social, sports, cultural and similar services', \n",
    "141 : 'Office workers, secretaries in general and data processing operators', \n",
    "143 : 'Data, accounting, statistical, financial services and registry-related operators', 144 : 'Other administrative support staff',\n",
    "151 : 'personal service workers', 152 : 'sellers', 153 : 'Personal care workers and the like', \n",
    "171 : 'Skilled construction workers and the like, except electricians', \n",
    "173 : 'Skilled workers in printing, precision instrument manufacturing, jewelers, artisans and the like', \n",
    "175 : 'Workers in food processing, woodworking, clothing and other industries and crafts', 191 : 'cleaning workers', \n",
    "192 : 'Unskilled workers in agriculture, animal production, fisheries and forestry', \n",
    "193 : 'Unskilled workers in extractive industry, construction, manufacturing and transport', 194 : 'Meal preparation assistants'})"
   ]
  },
  {
   "cell_type": "code",
   "execution_count": 18,
   "id": "17a8af2f-d3ba-4b50-94ca-f4f063a1504e",
   "metadata": {},
   "outputs": [],
   "source": [
    "df[\"Father's occupation\"] = df[\"Father's occupation\"].replace({\n",
    "0 : 'Student', 1 : 'Representatives of the Legislative Power and Executive Bodies, Directors, Directors and Executive Managers',\n",
    "2 : 'Specialists in Intellectual and Scientific Activities', 3 : 'Intermediate Level Technicians and Professions', 4 : 'Administrative staff', \n",
    "5 : 'Personal Services, Security and Safety Workers and Sellers', 6 : 'Farmers and Skilled Workers in Agriculture, Fisheries and Forestry', \n",
    "7 : 'Skilled Workers in Industry, Construction and Craftsmen', 8 : 'Installation and Machine Operators and Assembly Workers', 9 : 'Unskilled Workers', \n",
    "10 : 'Armed Forces Professions', 90 : 'Other Situation', 99 : '(blank)', 122 : 'Health professionals', 123 : 'teachers',\n",
    "125 : 'Specialists in information and communication technologies (ICT)', 131 : 'intermediate level science and engineering technicians and professions',\n",
    "132 : 'Technicians and professionals, of intermediate level of health', \n",
    "134 : 'Intermediate level technicians from legal, social, sports, cultural and similar services', \n",
    "141 : 'Office workers, secretaries in general and data processing operators', \n",
    "143 : 'Data, accounting, statistical, financial services and registry-related operators', 144 : 'Other administrative support staff',\n",
    "151 : 'personal service workers', 152 : 'sellers', 153 : 'Personal care workers and the like', \n",
    "171 : 'Skilled construction workers and the like, except electricians', \n",
    "173 : 'Skilled workers in printing, precision instrument manufacturing, jewelers, artisans and the like', \n",
    "175 : 'Workers in food processing, woodworking, clothing and other industries and crafts', 191 : 'cleaning workers', \n",
    "192 : 'Unskilled workers in agriculture, animal production, fisheries and forestry', \n",
    "193 : 'Unskilled workers in extractive industry, construction, manufacturing and transport', 194 : 'Meal preparation assistants', 163 : 'Unknown', \n",
    "103 : 'Unknown', 135 : 'Unknown', 181 : 'Unknown', 174 : 'Unknown', 112 : 'Unknown', 101 : 'Unknown', 114 : 'Unknown', 154 : 'Unknown', \n",
    "183 : 'Unknown', 102 : 'Unknown', 172 : 'Unknown', 182 : 'Unknown', 195 : 'Unknown', 124 : 'Unknown'})"
   ]
  },
  {
   "attachments": {
    "b40e2da6-353a-4457-9984-227b997f928e.png": {
     "image/png": "[encoded data removed]"
    }
   },
   "cell_type": "markdown",
   "id": "eb8fdd73-8dae-4ea8-80b4-ce6840e5561f",
   "metadata": {},
   "source": [
    "---\n",
    "## Methodoligy\n",
    "\n",
    "A common methodology used when attempting to create a model is `CRISP-DM`, which stands for:\n",
    "\n",
    "- `CR`oss\n",
    "- `I`dustry\n",
    "- `S`tandard\n",
    "- `p`rocess\n",
    "- (for)\n",
    "- `D`ata\n",
    "- `M`ining\n",
    "\n",
    "A good visual for how this works is a model designed by [IBM](https://www.ibm.com/docs/en/spss-modeler/saas?topic=dm-crisp-help-overview)\n",
    "\n",
    "<div>\n",
    "<img src = 'attachment:b40e2da6-353a-4457-9984-227b997f928e.png' width = '500'/>\n",
    "</div>\n",
    "\n",
    "This methodolgy is an overarhcing workflow style, where upon completing a step in the cycle, the next step is started and so on. Where this model really helps though is that its not linear, meaning if needed, returning to a previous step can assist with assuring a thorough and complete modeling process."
   ]
  },
  {
   "cell_type": "markdown",
   "id": "250d468f-ae85-4617-8014-2a3b21a423f1",
   "metadata": {},
   "source": [
    "---\n",
    "# Functions\n",
    "\n",
    "Here we create a handmade function to assist with repetitive code blocks."
   ]
  },
  {
   "cell_type": "code",
   "execution_count": 19,
   "id": "cda8856a-1c59-420d-aace-f5e489b3491a",
   "metadata": {},
   "outputs": [],
   "source": [
    "def get_metrics(y_train, pred):\n",
    "    '''\n",
    "    bundles together accuracy, precision, recall and f1 score into one function.\n",
    "    \n",
    "    requirements : this function requires 2 inputs, the y_values as dtype(object) and pred as dtype(numpy.ndarry)\n",
    "    '''   \n",
    "    \n",
    "    acc = accuracy_score(y_train, pred)\n",
    "    prec = precision_score(y_train, pred, average = 'macro', zero_division = np.nan)\n",
    "    rec = recall_score(y_train, pred, average = 'macro')\n",
    "    f1 = f1_score(y_train, pred, average = 'macro')\n",
    "    print('accuracy:', acc)\n",
    "    print('precision:', prec)\n",
    "    print('recall:', rec)\n",
    "    print('f1 score:', f1)"
   ]
  },
  {
   "cell_type": "markdown",
   "id": "0c738870-25ac-4f58-aa93-545699b187dc",
   "metadata": {},
   "source": [
    "---\n",
    "# Exploritory Data Analysis (EDA)\n",
    "\n",
    "Lets dive more into the data we have, and see if we can get a base understanding of what we're working with. This step assists us with the modeling phase, as it allows us to have a deeper understanding of what the results may look like."
   ]
  },
  {
   "cell_type": "code",
   "execution_count": 20,
   "id": "38704529-c904-4cf5-9620-ca93db898e8c",
   "metadata": {},
   "outputs": [
    {
     "data": {
      "image/png": "[encoded data removed]",
      "text/plain": [
       "<Figure size 700x500 with 1 Axes>"
      ]
     },
     "metadata": {},
     "output_type": "display_data"
    }
   ],
   "source": [
    "fig, ax = plt.subplots(figsize = (7,5))\n",
    "target_bar = df['Target'].value_counts(normalize = True) * 100\n",
    "target_bar.plot(kind = 'barh', rot = 'horizontal')\n",
    "ax.set_title('Target Values in Percent (%)')\n",
    "ax.set_ylabel('Percent (%)')\n",
    "plt.show();"
   ]
  },
  {
   "cell_type": "code",
   "execution_count": 21,
   "id": "21c19fc5-1c44-4d23-bb97-8dbcacae76f2",
   "metadata": {},
   "outputs": [
    {
     "data": {
      "text/plain": [
       "Target\n",
       "Graduate    2209\n",
       "Dropout     1421\n",
       "Enrolled     794\n",
       "Name: count, dtype: int64"
      ]
     },
     "execution_count": 21,
     "metadata": {},
     "output_type": "execute_result"
    }
   ],
   "source": [
    "df['Target'].value_counts()"
   ]
  },
  {
   "cell_type": "code",
   "execution_count": 22,
   "id": "17954ed0-0d3b-4020-aa8d-07f70afcfc54",
   "metadata": {},
   "outputs": [
    {
     "data": {
      "image/png": "[encoded data removed]",
      "text/plain": [
       "<Figure size 700x500 with 1 Axes>"
      ]
     },
     "metadata": {},
     "output_type": "display_data"
    }
   ],
   "source": [
    "fig, ax = plt.subplots(figsize = (7,5))\n",
    "\n",
    "categories = ['Female', 'Male']\n",
    "vals = [65, 35]\n",
    "colors = ['steelblue', 'chocolate']\n",
    "plt.bar(categories, vals, color = colors)\n",
    "ax.set_title('Gender Percentage (%)')\n",
    "ax.set_ylabel('Percent (%)')\n",
    "plt.show();"
   ]
  },
  {
   "cell_type": "code",
   "execution_count": 23,
   "id": "16ca3866-43a1-47ed-9a4d-f53ea16f00f4",
   "metadata": {},
   "outputs": [
    {
     "data": {
      "text/plain": [
       "Gender\n",
       "0    2868\n",
       "1    1556\n",
       "Name: count, dtype: int64"
      ]
     },
     "execution_count": 23,
     "metadata": {},
     "output_type": "execute_result"
    }
   ],
   "source": [
    "df['Gender'].value_counts()"
   ]
  },
  {
   "cell_type": "code",
   "execution_count": 24,
   "id": "2be0521c-fa28-4f38-af73-5919fa50d550",
   "metadata": {},
   "outputs": [
    {
     "data": {
      "image/png": "[encoded data removed]",
      "text/plain": [
       "<Figure size 700x500 with 1 Axes>"
      ]
     },
     "metadata": {},
     "output_type": "display_data"
    }
   ],
   "source": [
    "fig, ax = plt.subplots(figsize = (7, 5)) # create figure\n",
    "sns.countplot(data = df, x = 'Target', hue = 'Gender') # assigns x and y values\n",
    "ax.set_title('Success Per Gender') # title\n",
    "labels = ['female', 'male']\n",
    "plt.legend(labels)\n",
    "plt.show(); # output"
   ]
  },
  {
   "cell_type": "code",
   "execution_count": 25,
   "id": "0f3fc6e1-5dfa-436c-ac04-6bac8252fd1e",
   "metadata": {},
   "outputs": [
    {
     "data": {
      "image/png": "[encoded data removed]",
      "text/plain": [
       "<Figure size 700x500 with 1 Axes>"
      ]
     },
     "metadata": {},
     "output_type": "display_data"
    }
   ],
   "source": [
    "fig, ax = plt.subplots(figsize = (7,5))\n",
    "nat_bar = df['Nationality'].value_counts() / len(df['Nationality']) * 100\n",
    "nat_bar.plot(kind = 'bar')\n",
    "ax.set_title('Nationality Chart percent (%)')\n",
    "ax.set_ylabel('Percent (%)')\n",
    "plt.show();"
   ]
  },
  {
   "cell_type": "code",
   "execution_count": 26,
   "id": "6801cb16-555e-415e-b06e-fc1ad0a900ab",
   "metadata": {},
   "outputs": [
    {
     "data": {
      "text/plain": [
       "Nationality\n",
       "Portuguese               4314\n",
       "Brazilian                  38\n",
       "Santomean                  14\n",
       "Cape Verdean               13\n",
       "Spanish                    13\n",
       "Guinean                     5\n",
       "Moldova (Republic of)       3\n",
       "Italian                     3\n",
       "Ukrainian                   3\n",
       "Angolan                     2\n",
       "Mexican                     2\n",
       "Romanian                    2\n",
       "Mozambican                  2\n",
       "German                      2\n",
       "Russian                     2\n",
       "Turkish                     1\n",
       "Dutch                       1\n",
       "Colombian                   1\n",
       "Cuban                       1\n",
       "English                     1\n",
       "Lithuanian                  1\n",
       "Name: count, dtype: int64"
      ]
     },
     "execution_count": 26,
     "metadata": {},
     "output_type": "execute_result"
    }
   ],
   "source": [
    "df['Nationality'].value_counts()"
   ]
  },
  {
   "cell_type": "code",
   "execution_count": 27,
   "id": "6c51b67c-2dea-4511-b166-d2e0f1f1a20f",
   "metadata": {},
   "outputs": [
    {
     "data": {
      "text/plain": [
       "4424"
      ]
     },
     "execution_count": 27,
     "metadata": {},
     "output_type": "execute_result"
    }
   ],
   "source": [
    "len(df['Nationality'])"
   ]
  },
  {
   "cell_type": "code",
   "execution_count": 28,
   "id": "88d3cfef-1e32-4921-a99c-7e0d3528d26d",
   "metadata": {},
   "outputs": [
    {
     "data": {
      "text/plain": [
       "97.73448119619393"
      ]
     },
     "execution_count": 28,
     "metadata": {},
     "output_type": "execute_result"
    }
   ],
   "source": [
    "(4314 / 4414) * 100"
   ]
  },
  {
   "cell_type": "markdown",
   "id": "c021c2eb-ef15-43c8-b147-a5d3898f4166",
   "metadata": {},
   "source": [
    "`Nationality` is heavily skewed toward one nationality, that being Portuguese at 97% of the population. Due to this, we will only be using portuguese entries as the minority nationalities only add noise for the model."
   ]
  },
  {
   "cell_type": "markdown",
   "id": "3d44b11f-6780-41c4-af32-cad78cf988f7",
   "metadata": {
    "editable": true,
    "slideshow": {
     "slide_type": ""
    },
    "tags": []
   },
   "source": [
    "---\n",
    "# Model Preparation\n",
    "\n",
    "Here we will prepare the data specifically for modeling. We will only use Portuguese entries, encode the target as binary, one-hot encode our data and use `train_test_split` to validate our data. "
   ]
  },
  {
   "cell_type": "code",
   "execution_count": 29,
   "id": "70e45b79-7c1f-4cc2-9a11-3bfbe240efd6",
   "metadata": {},
   "outputs": [],
   "source": [
    "df.drop(df[df['Target'] == 'Enrolled'].index, inplace = True)"
   ]
  },
  {
   "cell_type": "code",
   "execution_count": 30,
   "id": "0dca2ffd-0b21-47df-b2eb-4cb9a744cb66",
   "metadata": {},
   "outputs": [
    {
     "data": {
      "text/plain": [
       "Target\n",
       "Graduate    2209\n",
       "Dropout     1421\n",
       "Name: count, dtype: int64"
      ]
     },
     "execution_count": 30,
     "metadata": {},
     "output_type": "execute_result"
    }
   ],
   "source": [
    "df['Target'].value_counts()"
   ]
  },
  {
   "cell_type": "code",
   "execution_count": 31,
   "id": "36b86181-73e2-4641-96d9-bcb8d867eaeb",
   "metadata": {},
   "outputs": [],
   "source": [
    "le = LabelEncoder()\n",
    "seed = 13\n",
    "df['Target'] = le.fit_transform(df['Target'])"
   ]
  },
  {
   "cell_type": "code",
   "execution_count": 32,
   "id": "8e1446a6-0730-4e40-bc27-f2f8e31ee525",
   "metadata": {},
   "outputs": [
    {
     "data": {
      "text/plain": [
       "Target\n",
       "1    2209\n",
       "0    1421\n",
       "Name: count, dtype: int64"
      ]
     },
     "execution_count": 32,
     "metadata": {},
     "output_type": "execute_result"
    }
   ],
   "source": [
    "df['Target'].value_counts()"
   ]
  },
  {
   "cell_type": "code",
   "execution_count": 33,
   "id": "bbeb15bd-6e9d-4a90-94a5-1ea17bb8ce2e",
   "metadata": {},
   "outputs": [],
   "source": [
    "df1 = df[df['Nationality'] == 'Portuguese'].copy()"
   ]
  },
  {
   "cell_type": "code",
   "execution_count": 34,
   "id": "d23371e7-5c3b-4596-aa14-13d4a7eb4b22",
   "metadata": {},
   "outputs": [],
   "source": [
    "df1 = df1.drop('Nationality', axis = 1)"
   ]
  },
  {
   "cell_type": "code",
   "execution_count": 35,
   "id": "b8f8d8f0-d768-4361-82e2-f25bdc41da96",
   "metadata": {},
   "outputs": [],
   "source": [
    "cat_data = ['Marital status', 'Application mode', 'Application order', 'Course', 'Previous qualification',\n",
    "          \"Mother's qualification\", \"Father's qualification\", \"Mother's occupation\", \"Father's occupation\"]"
   ]
  },
  {
   "cell_type": "code",
   "execution_count": 36,
   "id": "74a8a1ef-08ed-42e0-9511-e9d7bd91554d",
   "metadata": {},
   "outputs": [],
   "source": [
    "ohe_df = pd.get_dummies(df1, cat_data, drop_first = True, dtype = int)"
   ]
  },
  {
   "cell_type": "code",
   "execution_count": 37,
   "id": "8349eeaa-d55a-44f1-99d0-3cc583d96e9c",
   "metadata": {},
   "outputs": [],
   "source": [
    "y = ohe_df['Target']\n",
    "x = ohe_df.drop(columns = 'Target', axis = 1)\n",
    "\n",
    "x_train, x_test, y_train, y_test = train_test_split(x, y, random_state = seed)"
   ]
  },
  {
   "cell_type": "markdown",
   "id": "03ca76c3-1e9a-4262-a83f-f4cd03538ef8",
   "metadata": {},
   "source": [
    "---\n",
    "# Modeling With `RandomForestClassifier`\n",
    "\n",
    "Here we get into the actual modeling of the data. We will use `RandomForestClassifier` as our modeler, as its really simple to use and works very well for what we are trying to accomplish. The data is already one-hot encoded and split using `train_test_split`. All future modeling will use this data as the baseline."
   ]
  },
  {
   "cell_type": "code",
   "execution_count": 38,
   "id": "8efcb823-6637-4688-ad61-792169159eb5",
   "metadata": {},
   "outputs": [],
   "source": [
    "rf = RandomForestClassifier(random_state = seed)"
   ]
  },
  {
   "cell_type": "code",
   "execution_count": 39,
   "id": "e3acc9f1-2d7d-4b76-9856-6e84e4db9251",
   "metadata": {},
   "outputs": [
    {
     "data": {
      "text/html": [
       "<style>#sk-container-id-1 {\n",
       "  /* Definition of color scheme common for light and dark mode */\n",
       "  --sklearn-color-text: black;\n",
       "  --sklearn-color-line: gray;\n",
       "  /* Definition of color scheme for unfitted estimators */\n",
       "  --sklearn-color-unfitted-level-0: #fff5e6;\n",
       "  --sklearn-color-unfitted-level-1: #f6e4d2;\n",
       "  --sklearn-color-unfitted-level-2: #ffe0b3;\n",
       "  --sklearn-color-unfitted-level-3: chocolate;\n",
       "  /* Definition of color scheme for fitted estimators */\n",
       "  --sklearn-color-fitted-level-0: #f0f8ff;\n",
       "  --sklearn-color-fitted-level-1: #d4ebff;\n",
       "  --sklearn-color-fitted-level-2: #b3dbfd;\n",
       "  --sklearn-color-fitted-level-3: cornflowerblue;\n",
       "\n",
       "  /* Specific color for light theme */\n",
       "  --sklearn-color-text-on-default-background: var(--sg-text-color, var(--theme-code-foreground, var(--jp-content-font-color1, black)));\n",
       "  --sklearn-color-background: var(--sg-background-color, var(--theme-background, var(--jp-layout-color0, white)));\n",
       "  --sklearn-color-border-box: var(--sg-text-color, var(--theme-code-foreground, var(--jp-content-font-color1, black)));\n",
       "  --sklearn-color-icon: #696969;\n",
       "\n",
       "  @media (prefers-color-scheme: dark) {\n",
       "    /* Redefinition of color scheme for dark theme */\n",
       "    --sklearn-color-text-on-default-background: var(--sg-text-color, var(--theme-code-foreground, var(--jp-content-font-color1, white)));\n",
       "    --sklearn-color-background: var(--sg-background-color, var(--theme-background, var(--jp-layout-color0, #111)));\n",
       "    --sklearn-color-border-box: var(--sg-text-color, var(--theme-code-foreground, var(--jp-content-font-color1, white)));\n",
       "    --sklearn-color-icon: #878787;\n",
       "  }\n",
       "}\n",
       "\n",
       "#sk-container-id-1 {\n",
       "  color: var(--sklearn-color-text);\n",
       "}\n",
       "\n",
       "#sk-container-id-1 pre {\n",
       "  padding: 0;\n",
       "}\n",
       "\n",
       "#sk-container-id-1 input.sk-hidden--visually {\n",
       "  border: 0;\n",
       "  clip: rect(1px 1px 1px 1px);\n",
       "  clip: rect(1px, 1px, 1px, 1px);\n",
       "  height: 1px;\n",
       "  margin: -1px;\n",
       "  overflow: hidden;\n",
       "  padding: 0;\n",
       "  position: absolute;\n",
       "  width: 1px;\n",
       "}\n",
       "\n",
       "#sk-container-id-1 div.sk-dashed-wrapped {\n",
       "  border: 1px dashed var(--sklearn-color-line);\n",
       "  margin: 0 0.4em 0.5em 0.4em;\n",
       "  box-sizing: border-box;\n",
       "  padding-bottom: 0.4em;\n",
       "  background-color: var(--sklearn-color-background);\n",
       "}\n",
       "\n",
       "#sk-container-id-1 div.sk-container {\n",
       "  /* jupyter's `normalize.less` sets `[hidden] { display: none; }`\n",
       "     but bootstrap.min.css set `[hidden] { display: none !important; }`\n",
       "     so we also need the `!important` here to be able to override the\n",
       "     default hidden behavior on the sphinx rendered scikit-learn.org.\n",
       "     See: https://github.com/scikit-learn/scikit-learn/issues/21755 */\n",
       "  display: inline-block !important;\n",
       "  position: relative;\n",
       "}\n",
       "\n",
       "#sk-container-id-1 div.sk-text-repr-fallback {\n",
       "  display: none;\n",
       "}\n",
       "\n",
       "div.sk-parallel-item,\n",
       "div.sk-serial,\n",
       "div.sk-item {\n",
       "  /* draw centered vertical line to link estimators */\n",
       "  background-image: linear-gradient(var(--sklearn-color-text-on-default-background), var(--sklearn-color-text-on-default-background));\n",
       "  background-size: 2px 100%;\n",
       "  background-repeat: no-repeat;\n",
       "  background-position: center center;\n",
       "}\n",
       "\n",
       "/* Parallel-specific style estimator block */\n",
       "\n",
       "#sk-container-id-1 div.sk-parallel-item::after {\n",
       "  content: \"\";\n",
       "  width: 100%;\n",
       "  border-bottom: 2px solid var(--sklearn-color-text-on-default-background);\n",
       "  flex-grow: 1;\n",
       "}\n",
       "\n",
       "#sk-container-id-1 div.sk-parallel {\n",
       "  display: flex;\n",
       "  align-items: stretch;\n",
       "  justify-content: center;\n",
       "  background-color: var(--sklearn-color-background);\n",
       "  position: relative;\n",
       "}\n",
       "\n",
       "#sk-container-id-1 div.sk-parallel-item {\n",
       "  display: flex;\n",
       "  flex-direction: column;\n",
       "}\n",
       "\n",
       "#sk-container-id-1 div.sk-parallel-item:first-child::after {\n",
       "  align-self: flex-end;\n",
       "  width: 50%;\n",
       "}\n",
       "\n",
       "#sk-container-id-1 div.sk-parallel-item:last-child::after {\n",
       "  align-self: flex-start;\n",
       "  width: 50%;\n",
       "}\n",
       "\n",
       "#sk-container-id-1 div.sk-parallel-item:only-child::after {\n",
       "  width: 0;\n",
       "}\n",
       "\n",
       "/* Serial-specific style estimator block */\n",
       "\n",
       "#sk-container-id-1 div.sk-serial {\n",
       "  display: flex;\n",
       "  flex-direction: column;\n",
       "  align-items: center;\n",
       "  background-color: var(--sklearn-color-background);\n",
       "  padding-right: 1em;\n",
       "  padding-left: 1em;\n",
       "}\n",
       "\n",
       "\n",
       "/* Toggleable style: style used for estimator/Pipeline/ColumnTransformer box that is\n",
       "clickable and can be expanded/collapsed.\n",
       "- Pipeline and ColumnTransformer use this feature and define the default style\n",
       "- Estimators will overwrite some part of the style using the `sk-estimator` class\n",
       "*/\n",
       "\n",
       "/* Pipeline and ColumnTransformer style (default) */\n",
       "\n",
       "#sk-container-id-1 div.sk-toggleable {\n",
       "  /* Default theme specific background. It is overwritten whether we have a\n",
       "  specific estimator or a Pipeline/ColumnTransformer */\n",
       "  background-color: var(--sklearn-color-background);\n",
       "}\n",
       "\n",
       "/* Toggleable label */\n",
       "#sk-container-id-1 label.sk-toggleable__label {\n",
       "  cursor: pointer;\n",
       "  display: block;\n",
       "  width: 100%;\n",
       "  margin-bottom: 0;\n",
       "  padding: 0.5em;\n",
       "  box-sizing: border-box;\n",
       "  text-align: center;\n",
       "}\n",
       "\n",
       "#sk-container-id-1 label.sk-toggleable__label-arrow:before {\n",
       "  /* Arrow on the left of the label */\n",
       "  content: \"▸\";\n",
       "  float: left;\n",
       "  margin-right: 0.25em;\n",
       "  color: var(--sklearn-color-icon);\n",
       "}\n",
       "\n",
       "#sk-container-id-1 label.sk-toggleable__label-arrow:hover:before {\n",
       "  color: var(--sklearn-color-text);\n",
       "}\n",
       "\n",
       "/* Toggleable content - dropdown */\n",
       "\n",
       "#sk-container-id-1 div.sk-toggleable__content {\n",
       "  max-height: 0;\n",
       "  max-width: 0;\n",
       "  overflow: hidden;\n",
       "  text-align: left;\n",
       "  /* unfitted */\n",
       "  background-color: var(--sklearn-color-unfitted-level-0);\n",
       "}\n",
       "\n",
       "#sk-container-id-1 div.sk-toggleable__content.fitted {\n",
       "  /* fitted */\n",
       "  background-color: var(--sklearn-color-fitted-level-0);\n",
       "}\n",
       "\n",
       "#sk-container-id-1 div.sk-toggleable__content pre {\n",
       "  margin: 0.2em;\n",
       "  border-radius: 0.25em;\n",
       "  color: var(--sklearn-color-text);\n",
       "  /* unfitted */\n",
       "  background-color: var(--sklearn-color-unfitted-level-0);\n",
       "}\n",
       "\n",
       "#sk-container-id-1 div.sk-toggleable__content.fitted pre {\n",
       "  /* unfitted */\n",
       "  background-color: var(--sklearn-color-fitted-level-0);\n",
       "}\n",
       "\n",
       "#sk-container-id-1 input.sk-toggleable__control:checked~div.sk-toggleable__content {\n",
       "  /* Expand drop-down */\n",
       "  max-height: 200px;\n",
       "  max-width: 100%;\n",
       "  overflow: auto;\n",
       "}\n",
       "\n",
       "#sk-container-id-1 input.sk-toggleable__control:checked~label.sk-toggleable__label-arrow:before {\n",
       "  content: \"▾\";\n",
       "}\n",
       "\n",
       "/* Pipeline/ColumnTransformer-specific style */\n",
       "\n",
       "#sk-container-id-1 div.sk-label input.sk-toggleable__control:checked~label.sk-toggleable__label {\n",
       "  color: var(--sklearn-color-text);\n",
       "  background-color: var(--sklearn-color-unfitted-level-2);\n",
       "}\n",
       "\n",
       "#sk-container-id-1 div.sk-label.fitted input.sk-toggleable__control:checked~label.sk-toggleable__label {\n",
       "  background-color: var(--sklearn-color-fitted-level-2);\n",
       "}\n",
       "\n",
       "/* Estimator-specific style */\n",
       "\n",
       "/* Colorize estimator box */\n",
       "#sk-container-id-1 div.sk-estimator input.sk-toggleable__control:checked~label.sk-toggleable__label {\n",
       "  /* unfitted */\n",
       "  background-color: var(--sklearn-color-unfitted-level-2);\n",
       "}\n",
       "\n",
       "#sk-container-id-1 div.sk-estimator.fitted input.sk-toggleable__control:checked~label.sk-toggleable__label {\n",
       "  /* fitted */\n",
       "  background-color: var(--sklearn-color-fitted-level-2);\n",
       "}\n",
       "\n",
       "#sk-container-id-1 div.sk-label label.sk-toggleable__label,\n",
       "#sk-container-id-1 div.sk-label label {\n",
       "  /* The background is the default theme color */\n",
       "  color: var(--sklearn-color-text-on-default-background);\n",
       "}\n",
       "\n",
       "/* On hover, darken the color of the background */\n",
       "#sk-container-id-1 div.sk-label:hover label.sk-toggleable__label {\n",
       "  color: var(--sklearn-color-text);\n",
       "  background-color: var(--sklearn-color-unfitted-level-2);\n",
       "}\n",
       "\n",
       "/* Label box, darken color on hover, fitted */\n",
       "#sk-container-id-1 div.sk-label.fitted:hover label.sk-toggleable__label.fitted {\n",
       "  color: var(--sklearn-color-text);\n",
       "  background-color: var(--sklearn-color-fitted-level-2);\n",
       "}\n",
       "\n",
       "/* Estimator label */\n",
       "\n",
       "#sk-container-id-1 div.sk-label label {\n",
       "  font-family: monospace;\n",
       "  font-weight: bold;\n",
       "  display: inline-block;\n",
       "  line-height: 1.2em;\n",
       "}\n",
       "\n",
       "#sk-container-id-1 div.sk-label-container {\n",
       "  text-align: center;\n",
       "}\n",
       "\n",
       "/* Estimator-specific */\n",
       "#sk-container-id-1 div.sk-estimator {\n",
       "  font-family: monospace;\n",
       "  border: 1px dotted var(--sklearn-color-border-box);\n",
       "  border-radius: 0.25em;\n",
       "  box-sizing: border-box;\n",
       "  margin-bottom: 0.5em;\n",
       "  /* unfitted */\n",
       "  background-color: var(--sklearn-color-unfitted-level-0);\n",
       "}\n",
       "\n",
       "#sk-container-id-1 div.sk-estimator.fitted {\n",
       "  /* fitted */\n",
       "  background-color: var(--sklearn-color-fitted-level-0);\n",
       "}\n",
       "\n",
       "/* on hover */\n",
       "#sk-container-id-1 div.sk-estimator:hover {\n",
       "  /* unfitted */\n",
       "  background-color: var(--sklearn-color-unfitted-level-2);\n",
       "}\n",
       "\n",
       "#sk-container-id-1 div.sk-estimator.fitted:hover {\n",
       "  /* fitted */\n",
       "  background-color: var(--sklearn-color-fitted-level-2);\n",
       "}\n",
       "\n",
       "/* Specification for estimator info (e.g. \"i\" and \"?\") */\n",
       "\n",
       "/* Common style for \"i\" and \"?\" */\n",
       "\n",
       ".sk-estimator-doc-link,\n",
       "a:link.sk-estimator-doc-link,\n",
       "a:visited.sk-estimator-doc-link {\n",
       "  float: right;\n",
       "  font-size: smaller;\n",
       "  line-height: 1em;\n",
       "  font-family: monospace;\n",
       "  background-color: var(--sklearn-color-background);\n",
       "  border-radius: 1em;\n",
       "  height: 1em;\n",
       "  width: 1em;\n",
       "  text-decoration: none !important;\n",
       "  margin-left: 1ex;\n",
       "  /* unfitted */\n",
       "  border: var(--sklearn-color-unfitted-level-1) 1pt solid;\n",
       "  color: var(--sklearn-color-unfitted-level-1);\n",
       "}\n",
       "\n",
       ".sk-estimator-doc-link.fitted,\n",
       "a:link.sk-estimator-doc-link.fitted,\n",
       "a:visited.sk-estimator-doc-link.fitted {\n",
       "  /* fitted */\n",
       "  border: var(--sklearn-color-fitted-level-1) 1pt solid;\n",
       "  color: var(--sklearn-color-fitted-level-1);\n",
       "}\n",
       "\n",
       "/* On hover */\n",
       "div.sk-estimator:hover .sk-estimator-doc-link:hover,\n",
       ".sk-estimator-doc-link:hover,\n",
       "div.sk-label-container:hover .sk-estimator-doc-link:hover,\n",
       ".sk-estimator-doc-link:hover {\n",
       "  /* unfitted */\n",
       "  background-color: var(--sklearn-color-unfitted-level-3);\n",
       "  color: var(--sklearn-color-background);\n",
       "  text-decoration: none;\n",
       "}\n",
       "\n",
       "div.sk-estimator.fitted:hover .sk-estimator-doc-link.fitted:hover,\n",
       ".sk-estimator-doc-link.fitted:hover,\n",
       "div.sk-label-container:hover .sk-estimator-doc-link.fitted:hover,\n",
       ".sk-estimator-doc-link.fitted:hover {\n",
       "  /* fitted */\n",
       "  background-color: var(--sklearn-color-fitted-level-3);\n",
       "  color: var(--sklearn-color-background);\n",
       "  text-decoration: none;\n",
       "}\n",
       "\n",
       "/* Span, style for the box shown on hovering the info icon */\n",
       ".sk-estimator-doc-link span {\n",
       "  display: none;\n",
       "  z-index: 9999;\n",
       "  position: relative;\n",
       "  font-weight: normal;\n",
       "  right: .2ex;\n",
       "  padding: .5ex;\n",
       "  margin: .5ex;\n",
       "  width: min-content;\n",
       "  min-width: 20ex;\n",
       "  max-width: 50ex;\n",
       "  color: var(--sklearn-color-text);\n",
       "  box-shadow: 2pt 2pt 4pt #999;\n",
       "  /* unfitted */\n",
       "  background: var(--sklearn-color-unfitted-level-0);\n",
       "  border: .5pt solid var(--sklearn-color-unfitted-level-3);\n",
       "}\n",
       "\n",
       ".sk-estimator-doc-link.fitted span {\n",
       "  /* fitted */\n",
       "  background: var(--sklearn-color-fitted-level-0);\n",
       "  border: var(--sklearn-color-fitted-level-3);\n",
       "}\n",
       "\n",
       ".sk-estimator-doc-link:hover span {\n",
       "  display: block;\n",
       "}\n",
       "\n",
       "/* \"?\"-specific style due to the `<a>` HTML tag */\n",
       "\n",
       "#sk-container-id-1 a.estimator_doc_link {\n",
       "  float: right;\n",
       "  font-size: 1rem;\n",
       "  line-height: 1em;\n",
       "  font-family: monospace;\n",
       "  background-color: var(--sklearn-color-background);\n",
       "  border-radius: 1rem;\n",
       "  height: 1rem;\n",
       "  width: 1rem;\n",
       "  text-decoration: none;\n",
       "  /* unfitted */\n",
       "  color: var(--sklearn-color-unfitted-level-1);\n",
       "  border: var(--sklearn-color-unfitted-level-1) 1pt solid;\n",
       "}\n",
       "\n",
       "#sk-container-id-1 a.estimator_doc_link.fitted {\n",
       "  /* fitted */\n",
       "  border: var(--sklearn-color-fitted-level-1) 1pt solid;\n",
       "  color: var(--sklearn-color-fitted-level-1);\n",
       "}\n",
       "\n",
       "/* On hover */\n",
       "#sk-container-id-1 a.estimator_doc_link:hover {\n",
       "  /* unfitted */\n",
       "  background-color: var(--sklearn-color-unfitted-level-3);\n",
       "  color: var(--sklearn-color-background);\n",
       "  text-decoration: none;\n",
       "}\n",
       "\n",
       "#sk-container-id-1 a.estimator_doc_link.fitted:hover {\n",
       "  /* fitted */\n",
       "  background-color: var(--sklearn-color-fitted-level-3);\n",
       "}\n",
       "</style><div id=\"sk-container-id-1\" class=\"sk-top-container\"><div class=\"sk-text-repr-fallback\"><pre>RandomForestClassifier(random_state=13)</pre><b>In a Jupyter environment, please rerun this cell to show the HTML representation or trust the notebook. <br />On GitHub, the HTML representation is unable to render, please try loading this page with nbviewer.org.</b></div><div class=\"sk-container\" hidden><div class=\"sk-item\"><div class=\"sk-estimator fitted sk-toggleable\"><input class=\"sk-toggleable__control sk-hidden--visually\" id=\"sk-estimator-id-1\" type=\"checkbox\" checked><label for=\"sk-estimator-id-1\" class=\"sk-toggleable__label fitted sk-toggleable__label-arrow fitted\">&nbsp;&nbsp;RandomForestClassifier<a class=\"sk-estimator-doc-link fitted\" rel=\"noreferrer\" target=\"_blank\" href=\"https://scikit-learn.org/1.5/modules/generated/sklearn.ensemble.RandomForestClassifier.html\">?<span>Documentation for RandomForestClassifier</span></a><span class=\"sk-estimator-doc-link fitted\">i<span>Fitted</span></span></label><div class=\"sk-toggleable__content fitted\"><pre>RandomForestClassifier(random_state=13)</pre></div> </div></div></div></div>"
      ],
      "text/plain": [
       "RandomForestClassifier(random_state=13)"
      ]
     },
     "execution_count": 39,
     "metadata": {},
     "output_type": "execute_result"
    }
   ],
   "source": [
    "rf.fit(x_train, y_train)"
   ]
  },
  {
   "cell_type": "code",
   "execution_count": 40,
   "id": "1b9b94ce-f581-48f5-98a3-5a91dac020c8",
   "metadata": {},
   "outputs": [],
   "source": [
    "pred_rf = rf.predict(x_test)"
   ]
  },
  {
   "cell_type": "code",
   "execution_count": 41,
   "id": "575beecb-a177-4447-af2f-f9b1a6fadb7b",
   "metadata": {},
   "outputs": [
    {
     "data": {
      "image/png": "[encoded data removed]",
      "text/plain": [
       "<Figure size 640x480 with 2 Axes>"
      ]
     },
     "metadata": {},
     "output_type": "display_data"
    }
   ],
   "source": [
    "cnf_matrix = confusion_matrix(y_test, pred_rf) # assign what to use in plot\n",
    "disp = ConfusionMatrixDisplay(confusion_matrix=cnf_matrix, display_labels=rf.classes_) # create plot\n",
    "disp.plot(cmap=plt.cm.Blues); # output"
   ]
  },
  {
   "cell_type": "code",
   "execution_count": 42,
   "id": "2acbcf43-99e6-427e-827e-4af55415152c",
   "metadata": {
    "scrolled": true
   },
   "outputs": [
    {
     "name": "stdout",
     "output_type": "stream",
     "text": [
      "accuracy: 0.9130925507900677\n",
      "precision: 0.9197641530444078\n",
      "recall: 0.8999522559083313\n",
      "f1 score: 0.9075466149528328\n"
     ]
    }
   ],
   "source": [
    "get_metrics(y_test, pred_rf)"
   ]
  },
  {
   "cell_type": "markdown",
   "id": "2af259be-40cb-4ff5-82fb-3c5254aed5f6",
   "metadata": {},
   "source": [
    "Below we have a pipeline and gridsearch. The output of this cell is commented out due to how long it takes to run. On my local system, it takes about 10-15 minutes to post results. If you wish to see the results directly from the model, feel free to remove the pound symbols. The output of the pipeline is commented below."
   ]
  },
  {
   "cell_type": "code",
   "execution_count": 43,
   "id": "7d5faca6-2ecf-4729-86e9-d7ed70347166",
   "metadata": {},
   "outputs": [],
   "source": [
    "pipe = Pipeline([('rfc', RandomForestClassifier(random_state = seed))])\n",
    "\n",
    "params = [{'rfc__n_estimators' : (500, 1000, 1500),\n",
    "          'rfc__max_depth' : (10, 50, 100),\n",
    "          'rfc__criterion' : ('gini', 'entropy'),\n",
    "          'rfc__max_features' : (10, 50, 100)}]\n",
    "\n",
    "grid = GridSearchCV(pipe, params)"
   ]
  },
  {
   "cell_type": "code",
   "execution_count": 44,
   "id": "1fe696ce-0ff6-4fd8-9a8a-87021fc82a43",
   "metadata": {},
   "outputs": [],
   "source": [
    "#grid.fit(x_train, y_train)"
   ]
  },
  {
   "cell_type": "code",
   "execution_count": 45,
   "id": "0425d77a-49c8-4e76-8ec0-f72f1bafae6e",
   "metadata": {},
   "outputs": [],
   "source": [
    "#grid.best_params_"
   ]
  },
  {
   "cell_type": "markdown",
   "id": "08cb6dd0-c720-48fa-98b5-360a3192bfac",
   "metadata": {},
   "source": [
    "pipeline results :\n",
    "\n",
    "- rfc__criterion: 'gini'\n",
    "- rfc__max_depth: 50\n",
    "- rfc__max_features: 50\n",
    "- rfc__n_estimators: 1000"
   ]
  },
  {
   "cell_type": "code",
   "execution_count": 46,
   "id": "c5628966-df7a-4827-9d8d-6e9fce220974",
   "metadata": {},
   "outputs": [],
   "source": [
    "rf1 = RandomForestClassifier(random_state = seed, criterion = 'gini', \n",
    "                             max_depth = 50, max_features = 50, n_estimators = 1000)"
   ]
  },
  {
   "cell_type": "code",
   "execution_count": 47,
   "id": "618bc9a2-1ab0-465a-817a-9874be21af52",
   "metadata": {},
   "outputs": [
    {
     "data": {
      "text/html": [
       "<style>#sk-container-id-2 {\n",
       "  /* Definition of color scheme common for light and dark mode */\n",
       "  --sklearn-color-text: black;\n",
       "  --sklearn-color-line: gray;\n",
       "  /* Definition of color scheme for unfitted estimators */\n",
       "  --sklearn-color-unfitted-level-0: #fff5e6;\n",
       "  --sklearn-color-unfitted-level-1: #f6e4d2;\n",
       "  --sklearn-color-unfitted-level-2: #ffe0b3;\n",
       "  --sklearn-color-unfitted-level-3: chocolate;\n",
       "  /* Definition of color scheme for fitted estimators */\n",
       "  --sklearn-color-fitted-level-0: #f0f8ff;\n",
       "  --sklearn-color-fitted-level-1: #d4ebff;\n",
       "  --sklearn-color-fitted-level-2: #b3dbfd;\n",
       "  --sklearn-color-fitted-level-3: cornflowerblue;\n",
       "\n",
       "  /* Specific color for light theme */\n",
       "  --sklearn-color-text-on-default-background: var(--sg-text-color, var(--theme-code-foreground, var(--jp-content-font-color1, black)));\n",
       "  --sklearn-color-background: var(--sg-background-color, var(--theme-background, var(--jp-layout-color0, white)));\n",
       "  --sklearn-color-border-box: var(--sg-text-color, var(--theme-code-foreground, var(--jp-content-font-color1, black)));\n",
       "  --sklearn-color-icon: #696969;\n",
       "\n",
       "  @media (prefers-color-scheme: dark) {\n",
       "    /* Redefinition of color scheme for dark theme */\n",
       "    --sklearn-color-text-on-default-background: var(--sg-text-color, var(--theme-code-foreground, var(--jp-content-font-color1, white)));\n",
       "    --sklearn-color-background: var(--sg-background-color, var(--theme-background, var(--jp-layout-color0, #111)));\n",
       "    --sklearn-color-border-box: var(--sg-text-color, var(--theme-code-foreground, var(--jp-content-font-color1, white)));\n",
       "    --sklearn-color-icon: #878787;\n",
       "  }\n",
       "}\n",
       "\n",
       "#sk-container-id-2 {\n",
       "  color: var(--sklearn-color-text);\n",
       "}\n",
       "\n",
       "#sk-container-id-2 pre {\n",
       "  padding: 0;\n",
       "}\n",
       "\n",
       "#sk-container-id-2 input.sk-hidden--visually {\n",
       "  border: 0;\n",
       "  clip: rect(1px 1px 1px 1px);\n",
       "  clip: rect(1px, 1px, 1px, 1px);\n",
       "  height: 1px;\n",
       "  margin: -1px;\n",
       "  overflow: hidden;\n",
       "  padding: 0;\n",
       "  position: absolute;\n",
       "  width: 1px;\n",
       "}\n",
       "\n",
       "#sk-container-id-2 div.sk-dashed-wrapped {\n",
       "  border: 1px dashed var(--sklearn-color-line);\n",
       "  margin: 0 0.4em 0.5em 0.4em;\n",
       "  box-sizing: border-box;\n",
       "  padding-bottom: 0.4em;\n",
       "  background-color: var(--sklearn-color-background);\n",
       "}\n",
       "\n",
       "#sk-container-id-2 div.sk-container {\n",
       "  /* jupyter's `normalize.less` sets `[hidden] { display: none; }`\n",
       "     but bootstrap.min.css set `[hidden] { display: none !important; }`\n",
       "     so we also need the `!important` here to be able to override the\n",
       "     default hidden behavior on the sphinx rendered scikit-learn.org.\n",
       "     See: https://github.com/scikit-learn/scikit-learn/issues/21755 */\n",
       "  display: inline-block !important;\n",
       "  position: relative;\n",
       "}\n",
       "\n",
       "#sk-container-id-2 div.sk-text-repr-fallback {\n",
       "  display: none;\n",
       "}\n",
       "\n",
       "div.sk-parallel-item,\n",
       "div.sk-serial,\n",
       "div.sk-item {\n",
       "  /* draw centered vertical line to link estimators */\n",
       "  background-image: linear-gradient(var(--sklearn-color-text-on-default-background), var(--sklearn-color-text-on-default-background));\n",
       "  background-size: 2px 100%;\n",
       "  background-repeat: no-repeat;\n",
       "  background-position: center center;\n",
       "}\n",
       "\n",
       "/* Parallel-specific style estimator block */\n",
       "\n",
       "#sk-container-id-2 div.sk-parallel-item::after {\n",
       "  content: \"\";\n",
       "  width: 100%;\n",
       "  border-bottom: 2px solid var(--sklearn-color-text-on-default-background);\n",
       "  flex-grow: 1;\n",
       "}\n",
       "\n",
       "#sk-container-id-2 div.sk-parallel {\n",
       "  display: flex;\n",
       "  align-items: stretch;\n",
       "  justify-content: center;\n",
       "  background-color: var(--sklearn-color-background);\n",
       "  position: relative;\n",
       "}\n",
       "\n",
       "#sk-container-id-2 div.sk-parallel-item {\n",
       "  display: flex;\n",
       "  flex-direction: column;\n",
       "}\n",
       "\n",
       "#sk-container-id-2 div.sk-parallel-item:first-child::after {\n",
       "  align-self: flex-end;\n",
       "  width: 50%;\n",
       "}\n",
       "\n",
       "#sk-container-id-2 div.sk-parallel-item:last-child::after {\n",
       "  align-self: flex-start;\n",
       "  width: 50%;\n",
       "}\n",
       "\n",
       "#sk-container-id-2 div.sk-parallel-item:only-child::after {\n",
       "  width: 0;\n",
       "}\n",
       "\n",
       "/* Serial-specific style estimator block */\n",
       "\n",
       "#sk-container-id-2 div.sk-serial {\n",
       "  display: flex;\n",
       "  flex-direction: column;\n",
       "  align-items: center;\n",
       "  background-color: var(--sklearn-color-background);\n",
       "  padding-right: 1em;\n",
       "  padding-left: 1em;\n",
       "}\n",
       "\n",
       "\n",
       "/* Toggleable style: style used for estimator/Pipeline/ColumnTransformer box that is\n",
       "clickable and can be expanded/collapsed.\n",
       "- Pipeline and ColumnTransformer use this feature and define the default style\n",
       "- Estimators will overwrite some part of the style using the `sk-estimator` class\n",
       "*/\n",
       "\n",
       "/* Pipeline and ColumnTransformer style (default) */\n",
       "\n",
       "#sk-container-id-2 div.sk-toggleable {\n",
       "  /* Default theme specific background. It is overwritten whether we have a\n",
       "  specific estimator or a Pipeline/ColumnTransformer */\n",
       "  background-color: var(--sklearn-color-background);\n",
       "}\n",
       "\n",
       "/* Toggleable label */\n",
       "#sk-container-id-2 label.sk-toggleable__label {\n",
       "  cursor: pointer;\n",
       "  display: block;\n",
       "  width: 100%;\n",
       "  margin-bottom: 0;\n",
       "  padding: 0.5em;\n",
       "  box-sizing: border-box;\n",
       "  text-align: center;\n",
       "}\n",
       "\n",
       "#sk-container-id-2 label.sk-toggleable__label-arrow:before {\n",
       "  /* Arrow on the left of the label */\n",
       "  content: \"▸\";\n",
       "  float: left;\n",
       "  margin-right: 0.25em;\n",
       "  color: var(--sklearn-color-icon);\n",
       "}\n",
       "\n",
       "#sk-container-id-2 label.sk-toggleable__label-arrow:hover:before {\n",
       "  color: var(--sklearn-color-text);\n",
       "}\n",
       "\n",
       "/* Toggleable content - dropdown */\n",
       "\n",
       "#sk-container-id-2 div.sk-toggleable__content {\n",
       "  max-height: 0;\n",
       "  max-width: 0;\n",
       "  overflow: hidden;\n",
       "  text-align: left;\n",
       "  /* unfitted */\n",
       "  background-color: var(--sklearn-color-unfitted-level-0);\n",
       "}\n",
       "\n",
       "#sk-container-id-2 div.sk-toggleable__content.fitted {\n",
       "  /* fitted */\n",
       "  background-color: var(--sklearn-color-fitted-level-0);\n",
       "}\n",
       "\n",
       "#sk-container-id-2 div.sk-toggleable__content pre {\n",
       "  margin: 0.2em;\n",
       "  border-radius: 0.25em;\n",
       "  color: var(--sklearn-color-text);\n",
       "  /* unfitted */\n",
       "  background-color: var(--sklearn-color-unfitted-level-0);\n",
       "}\n",
       "\n",
       "#sk-container-id-2 div.sk-toggleable__content.fitted pre {\n",
       "  /* unfitted */\n",
       "  background-color: var(--sklearn-color-fitted-level-0);\n",
       "}\n",
       "\n",
       "#sk-container-id-2 input.sk-toggleable__control:checked~div.sk-toggleable__content {\n",
       "  /* Expand drop-down */\n",
       "  max-height: 200px;\n",
       "  max-width: 100%;\n",
       "  overflow: auto;\n",
       "}\n",
       "\n",
       "#sk-container-id-2 input.sk-toggleable__control:checked~label.sk-toggleable__label-arrow:before {\n",
       "  content: \"▾\";\n",
       "}\n",
       "\n",
       "/* Pipeline/ColumnTransformer-specific style */\n",
       "\n",
       "#sk-container-id-2 div.sk-label input.sk-toggleable__control:checked~label.sk-toggleable__label {\n",
       "  color: var(--sklearn-color-text);\n",
       "  background-color: var(--sklearn-color-unfitted-level-2);\n",
       "}\n",
       "\n",
       "#sk-container-id-2 div.sk-label.fitted input.sk-toggleable__control:checked~label.sk-toggleable__label {\n",
       "  background-color: var(--sklearn-color-fitted-level-2);\n",
       "}\n",
       "\n",
       "/* Estimator-specific style */\n",
       "\n",
       "/* Colorize estimator box */\n",
       "#sk-container-id-2 div.sk-estimator input.sk-toggleable__control:checked~label.sk-toggleable__label {\n",
       "  /* unfitted */\n",
       "  background-color: var(--sklearn-color-unfitted-level-2);\n",
       "}\n",
       "\n",
       "#sk-container-id-2 div.sk-estimator.fitted input.sk-toggleable__control:checked~label.sk-toggleable__label {\n",
       "  /* fitted */\n",
       "  background-color: var(--sklearn-color-fitted-level-2);\n",
       "}\n",
       "\n",
       "#sk-container-id-2 div.sk-label label.sk-toggleable__label,\n",
       "#sk-container-id-2 div.sk-label label {\n",
       "  /* The background is the default theme color */\n",
       "  color: var(--sklearn-color-text-on-default-background);\n",
       "}\n",
       "\n",
       "/* On hover, darken the color of the background */\n",
       "#sk-container-id-2 div.sk-label:hover label.sk-toggleable__label {\n",
       "  color: var(--sklearn-color-text);\n",
       "  background-color: var(--sklearn-color-unfitted-level-2);\n",
       "}\n",
       "\n",
       "/* Label box, darken color on hover, fitted */\n",
       "#sk-container-id-2 div.sk-label.fitted:hover label.sk-toggleable__label.fitted {\n",
       "  color: var(--sklearn-color-text);\n",
       "  background-color: var(--sklearn-color-fitted-level-2);\n",
       "}\n",
       "\n",
       "/* Estimator label */\n",
       "\n",
       "#sk-container-id-2 div.sk-label label {\n",
       "  font-family: monospace;\n",
       "  font-weight: bold;\n",
       "  display: inline-block;\n",
       "  line-height: 1.2em;\n",
       "}\n",
       "\n",
       "#sk-container-id-2 div.sk-label-container {\n",
       "  text-align: center;\n",
       "}\n",
       "\n",
       "/* Estimator-specific */\n",
       "#sk-container-id-2 div.sk-estimator {\n",
       "  font-family: monospace;\n",
       "  border: 1px dotted var(--sklearn-color-border-box);\n",
       "  border-radius: 0.25em;\n",
       "  box-sizing: border-box;\n",
       "  margin-bottom: 0.5em;\n",
       "  /* unfitted */\n",
       "  background-color: var(--sklearn-color-unfitted-level-0);\n",
       "}\n",
       "\n",
       "#sk-container-id-2 div.sk-estimator.fitted {\n",
       "  /* fitted */\n",
       "  background-color: var(--sklearn-color-fitted-level-0);\n",
       "}\n",
       "\n",
       "/* on hover */\n",
       "#sk-container-id-2 div.sk-estimator:hover {\n",
       "  /* unfitted */\n",
       "  background-color: var(--sklearn-color-unfitted-level-2);\n",
       "}\n",
       "\n",
       "#sk-container-id-2 div.sk-estimator.fitted:hover {\n",
       "  /* fitted */\n",
       "  background-color: var(--sklearn-color-fitted-level-2);\n",
       "}\n",
       "\n",
       "/* Specification for estimator info (e.g. \"i\" and \"?\") */\n",
       "\n",
       "/* Common style for \"i\" and \"?\" */\n",
       "\n",
       ".sk-estimator-doc-link,\n",
       "a:link.sk-estimator-doc-link,\n",
       "a:visited.sk-estimator-doc-link {\n",
       "  float: right;\n",
       "  font-size: smaller;\n",
       "  line-height: 1em;\n",
       "  font-family: monospace;\n",
       "  background-color: var(--sklearn-color-background);\n",
       "  border-radius: 1em;\n",
       "  height: 1em;\n",
       "  width: 1em;\n",
       "  text-decoration: none !important;\n",
       "  margin-left: 1ex;\n",
       "  /* unfitted */\n",
       "  border: var(--sklearn-color-unfitted-level-1) 1pt solid;\n",
       "  color: var(--sklearn-color-unfitted-level-1);\n",
       "}\n",
       "\n",
       ".sk-estimator-doc-link.fitted,\n",
       "a:link.sk-estimator-doc-link.fitted,\n",
       "a:visited.sk-estimator-doc-link.fitted {\n",
       "  /* fitted */\n",
       "  border: var(--sklearn-color-fitted-level-1) 1pt solid;\n",
       "  color: var(--sklearn-color-fitted-level-1);\n",
       "}\n",
       "\n",
       "/* On hover */\n",
       "div.sk-estimator:hover .sk-estimator-doc-link:hover,\n",
       ".sk-estimator-doc-link:hover,\n",
       "div.sk-label-container:hover .sk-estimator-doc-link:hover,\n",
       ".sk-estimator-doc-link:hover {\n",
       "  /* unfitted */\n",
       "  background-color: var(--sklearn-color-unfitted-level-3);\n",
       "  color: var(--sklearn-color-background);\n",
       "  text-decoration: none;\n",
       "}\n",
       "\n",
       "div.sk-estimator.fitted:hover .sk-estimator-doc-link.fitted:hover,\n",
       ".sk-estimator-doc-link.fitted:hover,\n",
       "div.sk-label-container:hover .sk-estimator-doc-link.fitted:hover,\n",
       ".sk-estimator-doc-link.fitted:hover {\n",
       "  /* fitted */\n",
       "  background-color: var(--sklearn-color-fitted-level-3);\n",
       "  color: var(--sklearn-color-background);\n",
       "  text-decoration: none;\n",
       "}\n",
       "\n",
       "/* Span, style for the box shown on hovering the info icon */\n",
       ".sk-estimator-doc-link span {\n",
       "  display: none;\n",
       "  z-index: 9999;\n",
       "  position: relative;\n",
       "  font-weight: normal;\n",
       "  right: .2ex;\n",
       "  padding: .5ex;\n",
       "  margin: .5ex;\n",
       "  width: min-content;\n",
       "  min-width: 20ex;\n",
       "  max-width: 50ex;\n",
       "  color: var(--sklearn-color-text);\n",
       "  box-shadow: 2pt 2pt 4pt #999;\n",
       "  /* unfitted */\n",
       "  background: var(--sklearn-color-unfitted-level-0);\n",
       "  border: .5pt solid var(--sklearn-color-unfitted-level-3);\n",
       "}\n",
       "\n",
       ".sk-estimator-doc-link.fitted span {\n",
       "  /* fitted */\n",
       "  background: var(--sklearn-color-fitted-level-0);\n",
       "  border: var(--sklearn-color-fitted-level-3);\n",
       "}\n",
       "\n",
       ".sk-estimator-doc-link:hover span {\n",
       "  display: block;\n",
       "}\n",
       "\n",
       "/* \"?\"-specific style due to the `<a>` HTML tag */\n",
       "\n",
       "#sk-container-id-2 a.estimator_doc_link {\n",
       "  float: right;\n",
       "  font-size: 1rem;\n",
       "  line-height: 1em;\n",
       "  font-family: monospace;\n",
       "  background-color: var(--sklearn-color-background);\n",
       "  border-radius: 1rem;\n",
       "  height: 1rem;\n",
       "  width: 1rem;\n",
       "  text-decoration: none;\n",
       "  /* unfitted */\n",
       "  color: var(--sklearn-color-unfitted-level-1);\n",
       "  border: var(--sklearn-color-unfitted-level-1) 1pt solid;\n",
       "}\n",
       "\n",
       "#sk-container-id-2 a.estimator_doc_link.fitted {\n",
       "  /* fitted */\n",
       "  border: var(--sklearn-color-fitted-level-1) 1pt solid;\n",
       "  color: var(--sklearn-color-fitted-level-1);\n",
       "}\n",
       "\n",
       "/* On hover */\n",
       "#sk-container-id-2 a.estimator_doc_link:hover {\n",
       "  /* unfitted */\n",
       "  background-color: var(--sklearn-color-unfitted-level-3);\n",
       "  color: var(--sklearn-color-background);\n",
       "  text-decoration: none;\n",
       "}\n",
       "\n",
       "#sk-container-id-2 a.estimator_doc_link.fitted:hover {\n",
       "  /* fitted */\n",
       "  background-color: var(--sklearn-color-fitted-level-3);\n",
       "}\n",
       "</style><div id=\"sk-container-id-2\" class=\"sk-top-container\"><div class=\"sk-text-repr-fallback\"><pre>RandomForestClassifier(max_depth=50, max_features=50, n_estimators=1000,\n",
       "                       random_state=13)</pre><b>In a Jupyter environment, please rerun this cell to show the HTML representation or trust the notebook. <br />On GitHub, the HTML representation is unable to render, please try loading this page with nbviewer.org.</b></div><div class=\"sk-container\" hidden><div class=\"sk-item\"><div class=\"sk-estimator fitted sk-toggleable\"><input class=\"sk-toggleable__control sk-hidden--visually\" id=\"sk-estimator-id-2\" type=\"checkbox\" checked><label for=\"sk-estimator-id-2\" class=\"sk-toggleable__label fitted sk-toggleable__label-arrow fitted\">&nbsp;&nbsp;RandomForestClassifier<a class=\"sk-estimator-doc-link fitted\" rel=\"noreferrer\" target=\"_blank\" href=\"https://scikit-learn.org/1.5/modules/generated/sklearn.ensemble.RandomForestClassifier.html\">?<span>Documentation for RandomForestClassifier</span></a><span class=\"sk-estimator-doc-link fitted\">i<span>Fitted</span></span></label><div class=\"sk-toggleable__content fitted\"><pre>RandomForestClassifier(max_depth=50, max_features=50, n_estimators=1000,\n",
       "                       random_state=13)</pre></div> </div></div></div></div>"
      ],
      "text/plain": [
       "RandomForestClassifier(max_depth=50, max_features=50, n_estimators=1000,\n",
       "                       random_state=13)"
      ]
     },
     "execution_count": 47,
     "metadata": {},
     "output_type": "execute_result"
    }
   ],
   "source": [
    "rf1.fit(x_train, y_train)"
   ]
  },
  {
   "cell_type": "code",
   "execution_count": 48,
   "id": "f24a2181-e862-4822-9559-aad845af13ae",
   "metadata": {},
   "outputs": [],
   "source": [
    "pred_rf1 = rf1.predict(x_test)"
   ]
  },
  {
   "cell_type": "code",
   "execution_count": 49,
   "id": "c34fc119-b58b-4cec-8850-40c46dd3ec70",
   "metadata": {},
   "outputs": [
    {
     "data": {
      "image/png": "[encoded data removed]",
      "text/plain": [
       "<Figure size 640x480 with 2 Axes>"
      ]
     },
     "metadata": {},
     "output_type": "display_data"
    }
   ],
   "source": [
    "cnf_matrix = confusion_matrix(y_test, pred_rf1) # assign what to use in plot\n",
    "disp = ConfusionMatrixDisplay(confusion_matrix=cnf_matrix, display_labels=rf1.classes_) # create plot\n",
    "disp.plot(cmap=plt.cm.Blues); # output"
   ]
  },
  {
   "cell_type": "code",
   "execution_count": 50,
   "id": "d69aef56-7650-4fc9-942c-ecbb0a09b464",
   "metadata": {
    "scrolled": true
   },
   "outputs": [
    {
     "name": "stdout",
     "output_type": "stream",
     "text": [
      "accuracy: 0.9051918735891648\n",
      "precision: 0.9129298402068504\n",
      "recall: 0.8905599320972919\n",
      "f1 score: 0.8988408507676917\n"
     ]
    }
   ],
   "source": [
    "get_metrics(y_test, pred_rf1)"
   ]
  },
  {
   "cell_type": "markdown",
   "id": "7c55f2ae-3a58-48d3-8238-485da73aa6c2",
   "metadata": {},
   "source": [
    "Our final model performed very well, with a precision score of 91%. In this case, it means 91% of the time, the model correctly labeled the positive text as positive text. Lets try a different model to see if we can get even better results."
   ]
  },
  {
   "cell_type": "markdown",
   "id": "84d9dd83-d20c-448e-b741-8bb6bae81840",
   "metadata": {},
   "source": [
    "# Modeling With `KERAS` (Neural Network)\n",
    "`Keras` is a neural network that works in layers. Each layer taking into account what the last layer output. Neural networks are a bit of a black box, meaning the interworkings of the model are convoluted. Neural networks are also more difficult to prepare the data for as well as more difficult to actually use. "
   ]
  },
  {
   "cell_type": "code",
   "execution_count": 51,
   "id": "fdc11d4d-b2e3-49b6-8f55-1c47e48963c7",
   "metadata": {},
   "outputs": [],
   "source": [
    "scaler = StandardScaler()\n",
    "scaled_xt = scaler.fit_transform(x_train)"
   ]
  },
  {
   "cell_type": "code",
   "execution_count": 52,
   "id": "9bdd4048-f345-4a05-b0b2-de88c2b1f48d",
   "metadata": {},
   "outputs": [],
   "source": [
    "model = models.Sequential()\n",
    "model.add(layers.Dense(50, activation = 'sigmoid'))\n",
    "model.add(layers.Dense(50, activation = 'sigmoid'))\n",
    "model.add(layers.Dense(1, activation = 'sigmoid'))\n",
    "model.compile(loss = 'binary_crossentropy', metrics = ['acc', 'precision'])"
   ]
  },
  {
   "cell_type": "code",
   "execution_count": 53,
   "id": "acbc021c-9a66-47f1-b6f6-2e0d12d81174",
   "metadata": {
    "scrolled": true
   },
   "outputs": [
    {
     "name": "stdout",
     "output_type": "stream",
     "text": [
      "Epoch 1/100\n",
      "\u001b[1m107/107\u001b[0m \u001b[32m━━━━━━━━━━━━━━━━━━━━\u001b[0m\u001b[37m\u001b[0m \u001b[1m1s\u001b[0m 755us/step - acc: 0.6541 - loss: 0.6233 - precision: 0.6435\n",
      "Epoch 2/100\n",
      "\u001b[1m107/107\u001b[0m \u001b[32m━━━━━━━━━━━━━━━━━━━━\u001b[0m\u001b[37m\u001b[0m \u001b[1m0s\u001b[0m 724us/step - acc: 0.8235 - loss: 0.4329 - precision: 0.8207\n",
      "Epoch 3/100\n",
      "\u001b[1m107/107\u001b[0m \u001b[32m━━━━━━━━━━━━━━━━━━━━\u001b[0m\u001b[37m\u001b[0m \u001b[1m0s\u001b[0m 736us/step - acc: 0.8686 - loss: 0.3397 - precision: 0.8778\n",
      "Epoch 4/100\n",
      "\u001b[1m107/107\u001b[0m \u001b[32m━━━━━━━━━━━━━━━━━━━━\u001b[0m\u001b[37m\u001b[0m \u001b[1m0s\u001b[0m 665us/step - acc: 0.9013 - loss: 0.2739 - precision: 0.9079\n",
      "Epoch 5/100\n",
      "\u001b[1m107/107\u001b[0m \u001b[32m━━━━━━━━━━━━━━━━━━━━\u001b[0m\u001b[37m\u001b[0m \u001b[1m0s\u001b[0m 657us/step - acc: 0.9057 - loss: 0.2656 - precision: 0.9079\n",
      "Epoch 6/100\n",
      "\u001b[1m107/107\u001b[0m \u001b[32m━━━━━━━━━━━━━━━━━━━━\u001b[0m\u001b[37m\u001b[0m \u001b[1m0s\u001b[0m 650us/step - acc: 0.9046 - loss: 0.2611 - precision: 0.9018\n",
      "Epoch 7/100\n",
      "\u001b[1m107/107\u001b[0m \u001b[32m━━━━━━━━━━━━━━━━━━━━\u001b[0m\u001b[37m\u001b[0m \u001b[1m0s\u001b[0m 1ms/step - acc: 0.9252 - loss: 0.2252 - precision: 0.9215\n",
      "Epoch 8/100\n",
      "\u001b[1m107/107\u001b[0m \u001b[32m━━━━━━━━━━━━━━━━━━━━\u001b[0m\u001b[37m\u001b[0m \u001b[1m0s\u001b[0m 643us/step - acc: 0.9242 - loss: 0.2209 - precision: 0.9175\n",
      "Epoch 9/100\n",
      "\u001b[1m107/107\u001b[0m \u001b[32m━━━━━━━━━━━━━━━━━━━━\u001b[0m\u001b[37m\u001b[0m \u001b[1m0s\u001b[0m 680us/step - acc: 0.9261 - loss: 0.2058 - precision: 0.9168\n",
      "Epoch 10/100\n",
      "\u001b[1m107/107\u001b[0m \u001b[32m━━━━━━━━━━━━━━━━━━━━\u001b[0m\u001b[37m\u001b[0m \u001b[1m0s\u001b[0m 605us/step - acc: 0.9233 - loss: 0.2227 - precision: 0.9155\n",
      "Epoch 11/100\n",
      "\u001b[1m107/107\u001b[0m \u001b[32m━━━━━━━━━━━━━━━━━━━━\u001b[0m\u001b[37m\u001b[0m \u001b[1m0s\u001b[0m 619us/step - acc: 0.9204 - loss: 0.2179 - precision: 0.9180\n",
      "Epoch 12/100\n",
      "\u001b[1m107/107\u001b[0m \u001b[32m━━━━━━━━━━━━━━━━━━━━\u001b[0m\u001b[37m\u001b[0m \u001b[1m0s\u001b[0m 635us/step - acc: 0.9271 - loss: 0.1951 - precision: 0.9224\n",
      "Epoch 13/100\n",
      "\u001b[1m107/107\u001b[0m \u001b[32m━━━━━━━━━━━━━━━━━━━━\u001b[0m\u001b[37m\u001b[0m \u001b[1m0s\u001b[0m 607us/step - acc: 0.9319 - loss: 0.1981 - precision: 0.9215\n",
      "Epoch 14/100\n",
      "\u001b[1m107/107\u001b[0m \u001b[32m━━━━━━━━━━━━━━━━━━━━\u001b[0m\u001b[37m\u001b[0m \u001b[1m0s\u001b[0m 610us/step - acc: 0.9133 - loss: 0.2237 - precision: 0.9050\n",
      "Epoch 15/100\n",
      "\u001b[1m107/107\u001b[0m \u001b[32m━━━━━━━━━━━━━━━━━━━━\u001b[0m\u001b[37m\u001b[0m \u001b[1m0s\u001b[0m 607us/step - acc: 0.9288 - loss: 0.1926 - precision: 0.9237\n",
      "Epoch 16/100\n",
      "\u001b[1m107/107\u001b[0m \u001b[32m━━━━━━━━━━━━━━━━━━━━\u001b[0m\u001b[37m\u001b[0m \u001b[1m0s\u001b[0m 616us/step - acc: 0.9281 - loss: 0.1969 - precision: 0.9233\n",
      "Epoch 17/100\n",
      "\u001b[1m107/107\u001b[0m \u001b[32m━━━━━━━━━━━━━━━━━━━━\u001b[0m\u001b[37m\u001b[0m \u001b[1m0s\u001b[0m 605us/step - acc: 0.9287 - loss: 0.2075 - precision: 0.9260\n",
      "Epoch 18/100\n",
      "\u001b[1m107/107\u001b[0m \u001b[32m━━━━━━━━━━━━━━━━━━━━\u001b[0m\u001b[37m\u001b[0m \u001b[1m0s\u001b[0m 758us/step - acc: 0.9251 - loss: 0.2012 - precision: 0.9258\n",
      "Epoch 19/100\n",
      "\u001b[1m107/107\u001b[0m \u001b[32m━━━━━━━━━━━━━━━━━━━━\u001b[0m\u001b[37m\u001b[0m \u001b[1m0s\u001b[0m 626us/step - acc: 0.9290 - loss: 0.2039 - precision: 0.9236\n",
      "Epoch 20/100\n",
      "\u001b[1m107/107\u001b[0m \u001b[32m━━━━━━━━━━━━━━━━━━━━\u001b[0m\u001b[37m\u001b[0m \u001b[1m0s\u001b[0m 604us/step - acc: 0.9202 - loss: 0.2142 - precision: 0.9125\n",
      "Epoch 21/100\n",
      "\u001b[1m107/107\u001b[0m \u001b[32m━━━━━━━━━━━━━━━━━━━━\u001b[0m\u001b[37m\u001b[0m \u001b[1m0s\u001b[0m 610us/step - acc: 0.9242 - loss: 0.2013 - precision: 0.9130\n",
      "Epoch 22/100\n",
      "\u001b[1m107/107\u001b[0m \u001b[32m━━━━━━━━━━━━━━━━━━━━\u001b[0m\u001b[37m\u001b[0m \u001b[1m0s\u001b[0m 613us/step - acc: 0.9274 - loss: 0.1970 - precision: 0.9157\n",
      "Epoch 23/100\n",
      "\u001b[1m107/107\u001b[0m \u001b[32m━━━━━━━━━━━━━━━━━━━━\u001b[0m\u001b[37m\u001b[0m \u001b[1m0s\u001b[0m 624us/step - acc: 0.9224 - loss: 0.1979 - precision: 0.9150\n",
      "Epoch 24/100\n",
      "\u001b[1m107/107\u001b[0m \u001b[32m━━━━━━━━━━━━━━━━━━━━\u001b[0m\u001b[37m\u001b[0m \u001b[1m0s\u001b[0m 619us/step - acc: 0.9231 - loss: 0.2036 - precision: 0.9135\n",
      "Epoch 25/100\n",
      "\u001b[1m107/107\u001b[0m \u001b[32m━━━━━━━━━━━━━━━━━━━━\u001b[0m\u001b[37m\u001b[0m \u001b[1m0s\u001b[0m 614us/step - acc: 0.9303 - loss: 0.1886 - precision: 0.9255\n",
      "Epoch 26/100\n",
      "\u001b[1m107/107\u001b[0m \u001b[32m━━━━━━━━━━━━━━━━━━━━\u001b[0m\u001b[37m\u001b[0m \u001b[1m0s\u001b[0m 620us/step - acc: 0.9260 - loss: 0.1894 - precision: 0.9212\n",
      "Epoch 27/100\n",
      "\u001b[1m107/107\u001b[0m \u001b[32m━━━━━━━━━━━━━━━━━━━━\u001b[0m\u001b[37m\u001b[0m \u001b[1m0s\u001b[0m 618us/step - acc: 0.9258 - loss: 0.2057 - precision: 0.9207\n",
      "Epoch 28/100\n",
      "\u001b[1m107/107\u001b[0m \u001b[32m━━━━━━━━━━━━━━━━━━━━\u001b[0m\u001b[37m\u001b[0m \u001b[1m0s\u001b[0m 620us/step - acc: 0.9294 - loss: 0.1968 - precision: 0.9203\n",
      "Epoch 29/100\n",
      "\u001b[1m107/107\u001b[0m \u001b[32m━━━━━━━━━━━━━━━━━━━━\u001b[0m\u001b[37m\u001b[0m \u001b[1m0s\u001b[0m 613us/step - acc: 0.9425 - loss: 0.1736 - precision: 0.9391\n",
      "Epoch 30/100\n",
      "\u001b[1m107/107\u001b[0m \u001b[32m━━━━━━━━━━━━━━━━━━━━\u001b[0m\u001b[37m\u001b[0m \u001b[1m0s\u001b[0m 649us/step - acc: 0.9358 - loss: 0.1834 - precision: 0.9274\n",
      "Epoch 31/100\n",
      "\u001b[1m107/107\u001b[0m \u001b[32m━━━━━━━━━━━━━━━━━━━━\u001b[0m\u001b[37m\u001b[0m \u001b[1m0s\u001b[0m 610us/step - acc: 0.9308 - loss: 0.1843 - precision: 0.9273\n",
      "Epoch 32/100\n",
      "\u001b[1m107/107\u001b[0m \u001b[32m━━━━━━━━━━━━━━━━━━━━\u001b[0m\u001b[37m\u001b[0m \u001b[1m0s\u001b[0m 645us/step - acc: 0.9378 - loss: 0.1679 - precision: 0.9372\n",
      "Epoch 33/100\n",
      "\u001b[1m107/107\u001b[0m \u001b[32m━━━━━━━━━━━━━━━━━━━━\u001b[0m\u001b[37m\u001b[0m \u001b[1m0s\u001b[0m 618us/step - acc: 0.9311 - loss: 0.1887 - precision: 0.9207\n",
      "Epoch 34/100\n",
      "\u001b[1m107/107\u001b[0m \u001b[32m━━━━━━━━━━━━━━━━━━━━\u001b[0m\u001b[37m\u001b[0m \u001b[1m0s\u001b[0m 599us/step - acc: 0.9359 - loss: 0.1836 - precision: 0.9271\n",
      "Epoch 35/100\n",
      "\u001b[1m107/107\u001b[0m \u001b[32m━━━━━━━━━━━━━━━━━━━━\u001b[0m\u001b[37m\u001b[0m \u001b[1m0s\u001b[0m 632us/step - acc: 0.9319 - loss: 0.1914 - precision: 0.9292\n",
      "Epoch 36/100\n",
      "\u001b[1m107/107\u001b[0m \u001b[32m━━━━━━━━━━━━━━━━━━━━\u001b[0m\u001b[37m\u001b[0m \u001b[1m0s\u001b[0m 610us/step - acc: 0.9361 - loss: 0.1753 - precision: 0.9295\n",
      "Epoch 37/100\n",
      "\u001b[1m107/107\u001b[0m \u001b[32m━━━━━━━━━━━━━━━━━━━━\u001b[0m\u001b[37m\u001b[0m \u001b[1m0s\u001b[0m 629us/step - acc: 0.9313 - loss: 0.1865 - precision: 0.9182\n",
      "Epoch 38/100\n",
      "\u001b[1m107/107\u001b[0m \u001b[32m━━━━━━━━━━━━━━━━━━━━\u001b[0m\u001b[37m\u001b[0m \u001b[1m0s\u001b[0m 606us/step - acc: 0.9262 - loss: 0.1918 - precision: 0.9182\n",
      "Epoch 39/100\n",
      "\u001b[1m107/107\u001b[0m \u001b[32m━━━━━━━━━━━━━━━━━━━━\u001b[0m\u001b[37m\u001b[0m \u001b[1m0s\u001b[0m 628us/step - acc: 0.9334 - loss: 0.1837 - precision: 0.9237\n",
      "Epoch 40/100\n",
      "\u001b[1m107/107\u001b[0m \u001b[32m━━━━━━━━━━━━━━━━━━━━\u001b[0m\u001b[37m\u001b[0m \u001b[1m0s\u001b[0m 632us/step - acc: 0.9329 - loss: 0.1791 - precision: 0.9236\n",
      "Epoch 41/100\n",
      "\u001b[1m107/107\u001b[0m \u001b[32m━━━━━━━━━━━━━━━━━━━━\u001b[0m\u001b[37m\u001b[0m \u001b[1m0s\u001b[0m 619us/step - acc: 0.9270 - loss: 0.1946 - precision: 0.9234\n",
      "Epoch 42/100\n",
      "\u001b[1m107/107\u001b[0m \u001b[32m━━━━━━━━━━━━━━━━━━━━\u001b[0m\u001b[37m\u001b[0m \u001b[1m0s\u001b[0m 615us/step - acc: 0.9412 - loss: 0.1688 - precision: 0.9366\n",
      "Epoch 43/100\n",
      "\u001b[1m107/107\u001b[0m \u001b[32m━━━━━━━━━━━━━━━━━━━━\u001b[0m\u001b[37m\u001b[0m \u001b[1m0s\u001b[0m 616us/step - acc: 0.9379 - loss: 0.1729 - precision: 0.9385\n",
      "Epoch 44/100\n",
      "\u001b[1m107/107\u001b[0m \u001b[32m━━━━━━━━━━━━━━━━━━━━\u001b[0m\u001b[37m\u001b[0m \u001b[1m0s\u001b[0m 596us/step - acc: 0.9409 - loss: 0.1704 - precision: 0.9345\n",
      "Epoch 45/100\n",
      "\u001b[1m107/107\u001b[0m \u001b[32m━━━━━━━━━━━━━━━━━━━━\u001b[0m\u001b[37m\u001b[0m \u001b[1m0s\u001b[0m 626us/step - acc: 0.9416 - loss: 0.1615 - precision: 0.9347\n",
      "Epoch 46/100\n",
      "\u001b[1m107/107\u001b[0m \u001b[32m━━━━━━━━━━━━━━━━━━━━\u001b[0m\u001b[37m\u001b[0m \u001b[1m0s\u001b[0m 806us/step - acc: 0.9485 - loss: 0.1536 - precision: 0.9444\n",
      "Epoch 47/100\n",
      "\u001b[1m107/107\u001b[0m \u001b[32m━━━━━━━━━━━━━━━━━━━━\u001b[0m\u001b[37m\u001b[0m \u001b[1m0s\u001b[0m 612us/step - acc: 0.9338 - loss: 0.1630 - precision: 0.9334\n",
      "Epoch 48/100\n",
      "\u001b[1m107/107\u001b[0m \u001b[32m━━━━━━━━━━━━━━━━━━━━\u001b[0m\u001b[37m\u001b[0m \u001b[1m0s\u001b[0m 635us/step - acc: 0.9343 - loss: 0.1782 - precision: 0.9252\n",
      "Epoch 49/100\n",
      "\u001b[1m107/107\u001b[0m \u001b[32m━━━━━━━━━━━━━━━━━━━━\u001b[0m\u001b[37m\u001b[0m \u001b[1m0s\u001b[0m 632us/step - acc: 0.9366 - loss: 0.1673 - precision: 0.9246\n",
      "Epoch 50/100\n",
      "\u001b[1m107/107\u001b[0m \u001b[32m━━━━━━━━━━━━━━━━━━━━\u001b[0m\u001b[37m\u001b[0m \u001b[1m0s\u001b[0m 613us/step - acc: 0.9445 - loss: 0.1439 - precision: 0.9401\n",
      "Epoch 51/100\n",
      "\u001b[1m107/107\u001b[0m \u001b[32m━━━━━━━━━━━━━━━━━━━━\u001b[0m\u001b[37m\u001b[0m \u001b[1m0s\u001b[0m 617us/step - acc: 0.9472 - loss: 0.1506 - precision: 0.9419\n",
      "Epoch 52/100\n",
      "\u001b[1m107/107\u001b[0m \u001b[32m━━━━━━━━━━━━━━━━━━━━\u001b[0m\u001b[37m\u001b[0m \u001b[1m0s\u001b[0m 616us/step - acc: 0.9519 - loss: 0.1365 - precision: 0.9494\n",
      "Epoch 53/100\n",
      "\u001b[1m107/107\u001b[0m \u001b[32m━━━━━━━━━━━━━━━━━━━━\u001b[0m\u001b[37m\u001b[0m \u001b[1m0s\u001b[0m 629us/step - acc: 0.9478 - loss: 0.1380 - precision: 0.9463\n",
      "Epoch 54/100\n",
      "\u001b[1m107/107\u001b[0m \u001b[32m━━━━━━━━━━━━━━━━━━━━\u001b[0m\u001b[37m\u001b[0m \u001b[1m0s\u001b[0m 613us/step - acc: 0.9498 - loss: 0.1351 - precision: 0.9489\n",
      "Epoch 55/100\n",
      "\u001b[1m107/107\u001b[0m \u001b[32m━━━━━━━━━━━━━━━━━━━━\u001b[0m\u001b[37m\u001b[0m \u001b[1m0s\u001b[0m 621us/step - acc: 0.9495 - loss: 0.1462 - precision: 0.9408\n",
      "Epoch 56/100\n",
      "\u001b[1m107/107\u001b[0m \u001b[32m━━━━━━━━━━━━━━━━━━━━\u001b[0m\u001b[37m\u001b[0m \u001b[1m0s\u001b[0m 628us/step - acc: 0.9463 - loss: 0.1485 - precision: 0.9414\n",
      "Epoch 57/100\n",
      "\u001b[1m107/107\u001b[0m \u001b[32m━━━━━━━━━━━━━━━━━━━━\u001b[0m\u001b[37m\u001b[0m \u001b[1m0s\u001b[0m 653us/step - acc: 0.9444 - loss: 0.1401 - precision: 0.9438\n",
      "Epoch 58/100\n",
      "\u001b[1m107/107\u001b[0m \u001b[32m━━━━━━━━━━━━━━━━━━━━\u001b[0m\u001b[37m\u001b[0m \u001b[1m0s\u001b[0m 607us/step - acc: 0.9505 - loss: 0.1362 - precision: 0.9437\n",
      "Epoch 59/100\n",
      "\u001b[1m107/107\u001b[0m \u001b[32m━━━━━━━━━━━━━━━━━━━━\u001b[0m\u001b[37m\u001b[0m \u001b[1m0s\u001b[0m 652us/step - acc: 0.9657 - loss: 0.1154 - precision: 0.9608\n",
      "Epoch 60/100\n",
      "\u001b[1m107/107\u001b[0m \u001b[32m━━━━━━━━━━━━━━━━━━━━\u001b[0m\u001b[37m\u001b[0m \u001b[1m0s\u001b[0m 618us/step - acc: 0.9480 - loss: 0.1324 - precision: 0.9504\n",
      "Epoch 61/100\n",
      "\u001b[1m107/107\u001b[0m \u001b[32m━━━━━━━━━━━━━━━━━━━━\u001b[0m\u001b[37m\u001b[0m \u001b[1m0s\u001b[0m 617us/step - acc: 0.9535 - loss: 0.1316 - precision: 0.9504\n",
      "Epoch 62/100\n",
      "\u001b[1m107/107\u001b[0m \u001b[32m━━━━━━━━━━━━━━━━━━━━\u001b[0m\u001b[37m\u001b[0m \u001b[1m0s\u001b[0m 605us/step - acc: 0.9558 - loss: 0.1238 - precision: 0.9516\n",
      "Epoch 63/100\n",
      "\u001b[1m107/107\u001b[0m \u001b[32m━━━━━━━━━━━━━━━━━━━━\u001b[0m\u001b[37m\u001b[0m \u001b[1m0s\u001b[0m 622us/step - acc: 0.9589 - loss: 0.1249 - precision: 0.9567\n",
      "Epoch 64/100\n",
      "\u001b[1m107/107\u001b[0m \u001b[32m━━━━━━━━━━━━━━━━━━━━\u001b[0m\u001b[37m\u001b[0m \u001b[1m0s\u001b[0m 624us/step - acc: 0.9642 - loss: 0.1122 - precision: 0.9599\n",
      "Epoch 65/100\n",
      "\u001b[1m107/107\u001b[0m \u001b[32m━━━━━━━━━━━━━━━━━━━━\u001b[0m\u001b[37m\u001b[0m \u001b[1m0s\u001b[0m 628us/step - acc: 0.9611 - loss: 0.1217 - precision: 0.9535\n",
      "Epoch 66/100\n",
      "\u001b[1m107/107\u001b[0m \u001b[32m━━━━━━━━━━━━━━━━━━━━\u001b[0m\u001b[37m\u001b[0m \u001b[1m0s\u001b[0m 639us/step - acc: 0.9611 - loss: 0.1055 - precision: 0.9583\n",
      "Epoch 67/100\n",
      "\u001b[1m107/107\u001b[0m \u001b[32m━━━━━━━━━━━━━━━━━━━━\u001b[0m\u001b[37m\u001b[0m \u001b[1m0s\u001b[0m 661us/step - acc: 0.9602 - loss: 0.1060 - precision: 0.9611\n",
      "Epoch 68/100\n",
      "\u001b[1m107/107\u001b[0m \u001b[32m━━━━━━━━━━━━━━━━━━━━\u001b[0m\u001b[37m\u001b[0m \u001b[1m0s\u001b[0m 645us/step - acc: 0.9695 - loss: 0.0985 - precision: 0.9629\n",
      "Epoch 69/100\n",
      "\u001b[1m107/107\u001b[0m \u001b[32m━━━━━━━━━━━━━━━━━━━━\u001b[0m\u001b[37m\u001b[0m \u001b[1m0s\u001b[0m 610us/step - acc: 0.9702 - loss: 0.0946 - precision: 0.9719\n",
      "Epoch 70/100\n",
      "\u001b[1m107/107\u001b[0m \u001b[32m━━━━━━━━━━━━━━━━━━━━\u001b[0m\u001b[37m\u001b[0m \u001b[1m0s\u001b[0m 618us/step - acc: 0.9657 - loss: 0.0980 - precision: 0.9690\n",
      "Epoch 71/100\n",
      "\u001b[1m107/107\u001b[0m \u001b[32m━━━━━━━━━━━━━━━━━━━━\u001b[0m\u001b[37m\u001b[0m \u001b[1m0s\u001b[0m 639us/step - acc: 0.9683 - loss: 0.0944 - precision: 0.9648\n",
      "Epoch 72/100\n",
      "\u001b[1m107/107\u001b[0m \u001b[32m━━━━━━━━━━━━━━━━━━━━\u001b[0m\u001b[37m\u001b[0m \u001b[1m0s\u001b[0m 636us/step - acc: 0.9655 - loss: 0.1015 - precision: 0.9645\n",
      "Epoch 73/100\n",
      "\u001b[1m107/107\u001b[0m \u001b[32m━━━━━━━━━━━━━━━━━━━━\u001b[0m\u001b[37m\u001b[0m \u001b[1m0s\u001b[0m 632us/step - acc: 0.9716 - loss: 0.0880 - precision: 0.9669\n",
      "Epoch 74/100\n",
      "\u001b[1m107/107\u001b[0m \u001b[32m━━━━━━━━━━━━━━━━━━━━\u001b[0m\u001b[37m\u001b[0m \u001b[1m0s\u001b[0m 627us/step - acc: 0.9706 - loss: 0.0865 - precision: 0.9697\n",
      "Epoch 75/100\n",
      "\u001b[1m107/107\u001b[0m \u001b[32m━━━━━━━━━━━━━━━━━━━━\u001b[0m\u001b[37m\u001b[0m \u001b[1m0s\u001b[0m 636us/step - acc: 0.9774 - loss: 0.0703 - precision: 0.9775\n",
      "Epoch 76/100\n",
      "\u001b[1m107/107\u001b[0m \u001b[32m━━━━━━━━━━━━━━━━━━━━\u001b[0m\u001b[37m\u001b[0m \u001b[1m0s\u001b[0m 1ms/step - acc: 0.9748 - loss: 0.0813 - precision: 0.9744\n",
      "Epoch 77/100\n",
      "\u001b[1m107/107\u001b[0m \u001b[32m━━━━━━━━━━━━━━━━━━━━\u001b[0m\u001b[37m\u001b[0m \u001b[1m0s\u001b[0m 622us/step - acc: 0.9805 - loss: 0.0662 - precision: 0.9778\n",
      "Epoch 78/100\n",
      "\u001b[1m107/107\u001b[0m \u001b[32m━━━━━━━━━━━━━━━━━━━━\u001b[0m\u001b[37m\u001b[0m \u001b[1m0s\u001b[0m 640us/step - acc: 0.9816 - loss: 0.0696 - precision: 0.9786\n",
      "Epoch 79/100\n",
      "\u001b[1m107/107\u001b[0m \u001b[32m━━━━━━━━━━━━━━━━━━━━\u001b[0m\u001b[37m\u001b[0m \u001b[1m0s\u001b[0m 652us/step - acc: 0.9797 - loss: 0.0664 - precision: 0.9755\n",
      "Epoch 80/100\n",
      "\u001b[1m107/107\u001b[0m \u001b[32m━━━━━━━━━━━━━━━━━━━━\u001b[0m\u001b[37m\u001b[0m \u001b[1m0s\u001b[0m 609us/step - acc: 0.9810 - loss: 0.0660 - precision: 0.9783\n",
      "Epoch 81/100\n",
      "\u001b[1m107/107\u001b[0m \u001b[32m━━━━━━━━━━━━━━━━━━━━\u001b[0m\u001b[37m\u001b[0m \u001b[1m0s\u001b[0m 610us/step - acc: 0.9815 - loss: 0.0580 - precision: 0.9799\n",
      "Epoch 82/100\n",
      "\u001b[1m107/107\u001b[0m \u001b[32m━━━━━━━━━━━━━━━━━━━━\u001b[0m\u001b[37m\u001b[0m \u001b[1m0s\u001b[0m 615us/step - acc: 0.9807 - loss: 0.0624 - precision: 0.9786\n",
      "Epoch 83/100\n",
      "\u001b[1m107/107\u001b[0m \u001b[32m━━━━━━━━━━━━━━━━━━━━\u001b[0m\u001b[37m\u001b[0m \u001b[1m0s\u001b[0m 659us/step - acc: 0.9773 - loss: 0.0627 - precision: 0.9787\n",
      "Epoch 84/100\n",
      "\u001b[1m107/107\u001b[0m \u001b[32m━━━━━━━━━━━━━━━━━━━━\u001b[0m\u001b[37m\u001b[0m \u001b[1m0s\u001b[0m 618us/step - acc: 0.9814 - loss: 0.0627 - precision: 0.9792\n",
      "Epoch 85/100\n",
      "\u001b[1m107/107\u001b[0m \u001b[32m━━━━━━━━━━━━━━━━━━━━\u001b[0m\u001b[37m\u001b[0m \u001b[1m0s\u001b[0m 633us/step - acc: 0.9833 - loss: 0.0562 - precision: 0.9825\n",
      "Epoch 86/100\n",
      "\u001b[1m107/107\u001b[0m \u001b[32m━━━━━━━━━━━━━━━━━━━━\u001b[0m\u001b[37m\u001b[0m \u001b[1m0s\u001b[0m 629us/step - acc: 0.9897 - loss: 0.0471 - precision: 0.9876\n",
      "Epoch 87/100\n",
      "\u001b[1m107/107\u001b[0m \u001b[32m━━━━━━━━━━━━━━━━━━━━\u001b[0m\u001b[37m\u001b[0m \u001b[1m0s\u001b[0m 657us/step - acc: 0.9896 - loss: 0.0454 - precision: 0.9872\n",
      "Epoch 88/100\n",
      "\u001b[1m107/107\u001b[0m \u001b[32m━━━━━━━━━━━━━━━━━━━━\u001b[0m\u001b[37m\u001b[0m \u001b[1m0s\u001b[0m 743us/step - acc: 0.9880 - loss: 0.0397 - precision: 0.9870\n",
      "Epoch 89/100\n",
      "\u001b[1m107/107\u001b[0m \u001b[32m━━━━━━━━━━━━━━━━━━━━\u001b[0m\u001b[37m\u001b[0m \u001b[1m0s\u001b[0m 732us/step - acc: 0.9900 - loss: 0.0405 - precision: 0.9876\n",
      "Epoch 90/100\n",
      "\u001b[1m107/107\u001b[0m \u001b[32m━━━━━━━━━━━━━━━━━━━━\u001b[0m\u001b[37m\u001b[0m \u001b[1m0s\u001b[0m 665us/step - acc: 0.9932 - loss: 0.0356 - precision: 0.9922\n",
      "Epoch 91/100\n",
      "\u001b[1m107/107\u001b[0m \u001b[32m━━━━━━━━━━━━━━━━━━━━\u001b[0m\u001b[37m\u001b[0m \u001b[1m0s\u001b[0m 863us/step - acc: 0.9887 - loss: 0.0397 - precision: 0.9850\n",
      "Epoch 92/100\n",
      "\u001b[1m107/107\u001b[0m \u001b[32m━━━━━━━━━━━━━━━━━━━━\u001b[0m\u001b[37m\u001b[0m \u001b[1m0s\u001b[0m 623us/step - acc: 0.9936 - loss: 0.0310 - precision: 0.9920\n",
      "Epoch 93/100\n",
      "\u001b[1m107/107\u001b[0m \u001b[32m━━━━━━━━━━━━━━━━━━━━\u001b[0m\u001b[37m\u001b[0m \u001b[1m0s\u001b[0m 652us/step - acc: 0.9911 - loss: 0.0317 - precision: 0.9917\n",
      "Epoch 94/100\n",
      "\u001b[1m107/107\u001b[0m \u001b[32m━━━━━━━━━━━━━━━━━━━━\u001b[0m\u001b[37m\u001b[0m \u001b[1m0s\u001b[0m 667us/step - acc: 0.9909 - loss: 0.0329 - precision: 0.9883\n",
      "Epoch 95/100\n",
      "\u001b[1m107/107\u001b[0m \u001b[32m━━━━━━━━━━━━━━━━━━━━\u001b[0m\u001b[37m\u001b[0m \u001b[1m0s\u001b[0m 639us/step - acc: 0.9921 - loss: 0.0292 - precision: 0.9910\n",
      "Epoch 96/100\n",
      "\u001b[1m107/107\u001b[0m \u001b[32m━━━━━━━━━━━━━━━━━━━━\u001b[0m\u001b[37m\u001b[0m \u001b[1m0s\u001b[0m 643us/step - acc: 0.9943 - loss: 0.0285 - precision: 0.9940\n",
      "Epoch 97/100\n",
      "\u001b[1m107/107\u001b[0m \u001b[32m━━━━━━━━━━━━━━━━━━━━\u001b[0m\u001b[37m\u001b[0m \u001b[1m0s\u001b[0m 631us/step - acc: 0.9926 - loss: 0.0284 - precision: 0.9912\n",
      "Epoch 98/100\n",
      "\u001b[1m107/107\u001b[0m \u001b[32m━━━━━━━━━━━━━━━━━━━━\u001b[0m\u001b[37m\u001b[0m \u001b[1m0s\u001b[0m 623us/step - acc: 0.9930 - loss: 0.0263 - precision: 0.9914\n",
      "Epoch 99/100\n",
      "\u001b[1m107/107\u001b[0m \u001b[32m━━━━━━━━━━━━━━━━━━━━\u001b[0m\u001b[37m\u001b[0m \u001b[1m0s\u001b[0m 637us/step - acc: 0.9937 - loss: 0.0233 - precision: 0.9918\n",
      "Epoch 100/100\n",
      "\u001b[1m107/107\u001b[0m \u001b[32m━━━━━━━━━━━━━━━━━━━━\u001b[0m\u001b[37m\u001b[0m \u001b[1m0s\u001b[0m 629us/step - acc: 0.9927 - loss: 0.0223 - precision: 0.9918\n"
     ]
    }
   ],
   "source": [
    "history = model.fit(scaled_xt, \n",
    "                    y_train, \n",
    "                   epochs = 100,\n",
    "                   batch_size = 25)"
   ]
  },
  {
   "cell_type": "code",
   "execution_count": 54,
   "id": "4e16273f-33eb-4e04-bd6e-faca255ed753",
   "metadata": {},
   "outputs": [
    {
     "data": {
      "text/plain": [
       "dict_keys(['acc', 'loss', 'precision'])"
      ]
     },
     "execution_count": 54,
     "metadata": {},
     "output_type": "execute_result"
    }
   ],
   "source": [
    "history_dict = history.history\n",
    "history_dict.keys()"
   ]
  },
  {
   "cell_type": "code",
   "execution_count": 55,
   "id": "aa9e1627-787f-4dde-9b40-6c243ab40017",
   "metadata": {},
   "outputs": [
    {
     "data": {
      "image/png": "[encoded data removed]",
      "text/plain": [
       "<Figure size 640x480 with 1 Axes>"
      ]
     },
     "metadata": {},
     "output_type": "display_data"
    }
   ],
   "source": [
    "history_dict = history.history\n",
    "loss_values = history_dict['loss']\n",
    "\n",
    "epochs = range(1, len(loss_values) + 1)\n",
    "plt.plot(epochs, loss_values, 'g', label='Training loss')\n",
    "\n",
    "plt.title('Training loss')\n",
    "plt.xlabel('Epochs')\n",
    "plt.ylabel('Loss')\n",
    "plt.legend()\n",
    "plt.show()"
   ]
  },
  {
   "cell_type": "markdown",
   "id": "f055c2ee-764d-4a5c-9ea6-fea38b9848e0",
   "metadata": {},
   "source": [
    "Here we see training loss, with lower being better. "
   ]
  },
  {
   "cell_type": "code",
   "execution_count": 56,
   "id": "40b0b7b1-14a8-4d36-96e9-ca53cf82f11d",
   "metadata": {},
   "outputs": [
    {
     "data": {
      "image/png": "[encoded data removed]",
      "text/plain": [
       "<Figure size 640x480 with 1 Axes>"
      ]
     },
     "metadata": {},
     "output_type": "display_data"
    }
   ],
   "source": [
    "acc_values = history_dict['acc'] \n",
    "\n",
    "plt.plot(epochs, acc_values, 'r', label='Training acc')\n",
    "plt.title('Training accuracy')\n",
    "plt.xlabel('Epochs')\n",
    "plt.ylabel('Accuracy')\n",
    "plt.legend()\n",
    "plt.show()"
   ]
  },
  {
   "cell_type": "markdown",
   "id": "99081a08-6879-4cfc-8b85-e7d5fa5a6709",
   "metadata": {},
   "source": [
    "Here we see training accuracy, with higher the better."
   ]
  },
  {
   "cell_type": "code",
   "execution_count": 57,
   "id": "ebb21cc8-7a4b-4a98-b218-3c7e3c877120",
   "metadata": {},
   "outputs": [
    {
     "data": {
      "image/png": "[encoded data removed]",
      "text/plain": [
       "<Figure size 640x480 with 1 Axes>"
      ]
     },
     "metadata": {},
     "output_type": "display_data"
    }
   ],
   "source": [
    "history_dict = history.history\n",
    "precision_values = history_dict['precision']\n",
    "\n",
    "epochs = range(1, len(loss_values) + 1)\n",
    "plt.plot(epochs, precision_values, 'g', label='precision')\n",
    "\n",
    "plt.title('Training precision')\n",
    "plt.xlabel('Epochs')\n",
    "plt.ylabel('Loss')\n",
    "plt.legend()\n",
    "plt.show()"
   ]
  },
  {
   "cell_type": "markdown",
   "id": "bff5c7e7-c1aa-40b6-a1e7-69708b013a48",
   "metadata": {},
   "source": [
    "Here we see training precision. This is our main metric we want to keep an eye on. This metric needs to be as high as possible."
   ]
  },
  {
   "cell_type": "code",
   "execution_count": 58,
   "id": "497be9b9-f535-4c5b-910b-4ace746ec7d7",
   "metadata": {},
   "outputs": [],
   "source": [
    "scaler = StandardScaler()\n",
    "scaled_x_test = scaler.fit_transform(x_test)"
   ]
  },
  {
   "cell_type": "code",
   "execution_count": 59,
   "id": "237c9677-1c74-48cc-aa00-35ec7699eac3",
   "metadata": {},
   "outputs": [
    {
     "name": "stdout",
     "output_type": "stream",
     "text": [
      "\u001b[1m28/28\u001b[0m \u001b[32m━━━━━━━━━━━━━━━━━━━━\u001b[0m\u001b[37m\u001b[0m \u001b[1m0s\u001b[0m 2ms/step \n"
     ]
    }
   ],
   "source": [
    "pred = model.predict(scaled_x_test) "
   ]
  },
  {
   "cell_type": "code",
   "execution_count": 60,
   "id": "b620c8b5-2443-4bf2-b91d-36fb46d207d2",
   "metadata": {},
   "outputs": [
    {
     "name": "stdout",
     "output_type": "stream",
     "text": [
      "\u001b[1m84/84\u001b[0m \u001b[32m━━━━━━━━━━━━━━━━━━━━\u001b[0m\u001b[37m\u001b[0m \u001b[1m0s\u001b[0m 526us/step - acc: 0.9976 - loss: 0.0158 - precision: 0.9970 \n"
     ]
    },
    {
     "data": {
      "text/plain": [
       "[0.017127346247434616, 0.9966139793395996, 0.995702862739563]"
      ]
     },
     "execution_count": 60,
     "metadata": {},
     "output_type": "execute_result"
    }
   ],
   "source": [
    "results_train = model.evaluate(scaled_xt, y_train)\n",
    "results_train"
   ]
  },
  {
   "cell_type": "code",
   "execution_count": 61,
   "id": "fb790c7d-16e6-488a-a2a1-fd62cc9217f2",
   "metadata": {},
   "outputs": [
    {
     "name": "stdout",
     "output_type": "stream",
     "text": [
      "\u001b[1m28/28\u001b[0m \u001b[32m━━━━━━━━━━━━━━━━━━━━\u001b[0m\u001b[37m\u001b[0m \u001b[1m0s\u001b[0m 770us/step - acc: 0.8766 - loss: 0.6309 - precision: 0.8962\n"
     ]
    },
    {
     "data": {
      "text/plain": [
       "[0.5817059874534607, 0.8905192017555237, 0.8945454359054565]"
      ]
     },
     "execution_count": 61,
     "metadata": {},
     "output_type": "execute_result"
    }
   ],
   "source": [
    "results_test = model.evaluate(scaled_x_test, y_test)\n",
    "results_test"
   ]
  },
  {
   "cell_type": "markdown",
   "id": "d2b284fa-c0a5-4439-984d-58f23f51a612",
   "metadata": {},
   "source": [
    "Our final precision score for the neural network is 87%. This score represents how often the false positive mistake is made by the model. In this case, it means 87% of the time, the model correctly labeled the positive text as positive text. While this is a good score, the random forest model actually performed better, is it scored 91% on the test data."
   ]
  },
  {
   "cell_type": "markdown",
   "id": "203f24ef-72dc-409a-8cc3-c468104c2f41",
   "metadata": {},
   "source": [
    "---\n",
    "# The Final Model"
   ]
  },
  {
   "cell_type": "code",
   "execution_count": 62,
   "id": "22fdf675-f703-44b6-b33d-35d35d402b6f",
   "metadata": {},
   "outputs": [],
   "source": [
    "rf1 = RandomForestClassifier(random_state = seed, criterion = 'gini', \n",
    "                             max_depth = 50, max_features = 50, n_estimators = 1000)"
   ]
  },
  {
   "cell_type": "code",
   "execution_count": 63,
   "id": "1a3ee6d1-14f9-4422-945d-180876d11ff8",
   "metadata": {},
   "outputs": [
    {
     "data": {
      "text/html": [
       "<style>#sk-container-id-3 {\n",
       "  /* Definition of color scheme common for light and dark mode */\n",
       "  --sklearn-color-text: black;\n",
       "  --sklearn-color-line: gray;\n",
       "  /* Definition of color scheme for unfitted estimators */\n",
       "  --sklearn-color-unfitted-level-0: #fff5e6;\n",
       "  --sklearn-color-unfitted-level-1: #f6e4d2;\n",
       "  --sklearn-color-unfitted-level-2: #ffe0b3;\n",
       "  --sklearn-color-unfitted-level-3: chocolate;\n",
       "  /* Definition of color scheme for fitted estimators */\n",
       "  --sklearn-color-fitted-level-0: #f0f8ff;\n",
       "  --sklearn-color-fitted-level-1: #d4ebff;\n",
       "  --sklearn-color-fitted-level-2: #b3dbfd;\n",
       "  --sklearn-color-fitted-level-3: cornflowerblue;\n",
       "\n",
       "  /* Specific color for light theme */\n",
       "  --sklearn-color-text-on-default-background: var(--sg-text-color, var(--theme-code-foreground, var(--jp-content-font-color1, black)));\n",
       "  --sklearn-color-background: var(--sg-background-color, var(--theme-background, var(--jp-layout-color0, white)));\n",
       "  --sklearn-color-border-box: var(--sg-text-color, var(--theme-code-foreground, var(--jp-content-font-color1, black)));\n",
       "  --sklearn-color-icon: #696969;\n",
       "\n",
       "  @media (prefers-color-scheme: dark) {\n",
       "    /* Redefinition of color scheme for dark theme */\n",
       "    --sklearn-color-text-on-default-background: var(--sg-text-color, var(--theme-code-foreground, var(--jp-content-font-color1, white)));\n",
       "    --sklearn-color-background: var(--sg-background-color, var(--theme-background, var(--jp-layout-color0, #111)));\n",
       "    --sklearn-color-border-box: var(--sg-text-color, var(--theme-code-foreground, var(--jp-content-font-color1, white)));\n",
       "    --sklearn-color-icon: #878787;\n",
       "  }\n",
       "}\n",
       "\n",
       "#sk-container-id-3 {\n",
       "  color: var(--sklearn-color-text);\n",
       "}\n",
       "\n",
       "#sk-container-id-3 pre {\n",
       "  padding: 0;\n",
       "}\n",
       "\n",
       "#sk-container-id-3 input.sk-hidden--visually {\n",
       "  border: 0;\n",
       "  clip: rect(1px 1px 1px 1px);\n",
       "  clip: rect(1px, 1px, 1px, 1px);\n",
       "  height: 1px;\n",
       "  margin: -1px;\n",
       "  overflow: hidden;\n",
       "  padding: 0;\n",
       "  position: absolute;\n",
       "  width: 1px;\n",
       "}\n",
       "\n",
       "#sk-container-id-3 div.sk-dashed-wrapped {\n",
       "  border: 1px dashed var(--sklearn-color-line);\n",
       "  margin: 0 0.4em 0.5em 0.4em;\n",
       "  box-sizing: border-box;\n",
       "  padding-bottom: 0.4em;\n",
       "  background-color: var(--sklearn-color-background);\n",
       "}\n",
       "\n",
       "#sk-container-id-3 div.sk-container {\n",
       "  /* jupyter's `normalize.less` sets `[hidden] { display: none; }`\n",
       "     but bootstrap.min.css set `[hidden] { display: none !important; }`\n",
       "     so we also need the `!important` here to be able to override the\n",
       "     default hidden behavior on the sphinx rendered scikit-learn.org.\n",
       "     See: https://github.com/scikit-learn/scikit-learn/issues/21755 */\n",
       "  display: inline-block !important;\n",
       "  position: relative;\n",
       "}\n",
       "\n",
       "#sk-container-id-3 div.sk-text-repr-fallback {\n",
       "  display: none;\n",
       "}\n",
       "\n",
       "div.sk-parallel-item,\n",
       "div.sk-serial,\n",
       "div.sk-item {\n",
       "  /* draw centered vertical line to link estimators */\n",
       "  background-image: linear-gradient(var(--sklearn-color-text-on-default-background), var(--sklearn-color-text-on-default-background));\n",
       "  background-size: 2px 100%;\n",
       "  background-repeat: no-repeat;\n",
       "  background-position: center center;\n",
       "}\n",
       "\n",
       "/* Parallel-specific style estimator block */\n",
       "\n",
       "#sk-container-id-3 div.sk-parallel-item::after {\n",
       "  content: \"\";\n",
       "  width: 100%;\n",
       "  border-bottom: 2px solid var(--sklearn-color-text-on-default-background);\n",
       "  flex-grow: 1;\n",
       "}\n",
       "\n",
       "#sk-container-id-3 div.sk-parallel {\n",
       "  display: flex;\n",
       "  align-items: stretch;\n",
       "  justify-content: center;\n",
       "  background-color: var(--sklearn-color-background);\n",
       "  position: relative;\n",
       "}\n",
       "\n",
       "#sk-container-id-3 div.sk-parallel-item {\n",
       "  display: flex;\n",
       "  flex-direction: column;\n",
       "}\n",
       "\n",
       "#sk-container-id-3 div.sk-parallel-item:first-child::after {\n",
       "  align-self: flex-end;\n",
       "  width: 50%;\n",
       "}\n",
       "\n",
       "#sk-container-id-3 div.sk-parallel-item:last-child::after {\n",
       "  align-self: flex-start;\n",
       "  width: 50%;\n",
       "}\n",
       "\n",
       "#sk-container-id-3 div.sk-parallel-item:only-child::after {\n",
       "  width: 0;\n",
       "}\n",
       "\n",
       "/* Serial-specific style estimator block */\n",
       "\n",
       "#sk-container-id-3 div.sk-serial {\n",
       "  display: flex;\n",
       "  flex-direction: column;\n",
       "  align-items: center;\n",
       "  background-color: var(--sklearn-color-background);\n",
       "  padding-right: 1em;\n",
       "  padding-left: 1em;\n",
       "}\n",
       "\n",
       "\n",
       "/* Toggleable style: style used for estimator/Pipeline/ColumnTransformer box that is\n",
       "clickable and can be expanded/collapsed.\n",
       "- Pipeline and ColumnTransformer use this feature and define the default style\n",
       "- Estimators will overwrite some part of the style using the `sk-estimator` class\n",
       "*/\n",
       "\n",
       "/* Pipeline and ColumnTransformer style (default) */\n",
       "\n",
       "#sk-container-id-3 div.sk-toggleable {\n",
       "  /* Default theme specific background. It is overwritten whether we have a\n",
       "  specific estimator or a Pipeline/ColumnTransformer */\n",
       "  background-color: var(--sklearn-color-background);\n",
       "}\n",
       "\n",
       "/* Toggleable label */\n",
       "#sk-container-id-3 label.sk-toggleable__label {\n",
       "  cursor: pointer;\n",
       "  display: block;\n",
       "  width: 100%;\n",
       "  margin-bottom: 0;\n",
       "  padding: 0.5em;\n",
       "  box-sizing: border-box;\n",
       "  text-align: center;\n",
       "}\n",
       "\n",
       "#sk-container-id-3 label.sk-toggleable__label-arrow:before {\n",
       "  /* Arrow on the left of the label */\n",
       "  content: \"▸\";\n",
       "  float: left;\n",
       "  margin-right: 0.25em;\n",
       "  color: var(--sklearn-color-icon);\n",
       "}\n",
       "\n",
       "#sk-container-id-3 label.sk-toggleable__label-arrow:hover:before {\n",
       "  color: var(--sklearn-color-text);\n",
       "}\n",
       "\n",
       "/* Toggleable content - dropdown */\n",
       "\n",
       "#sk-container-id-3 div.sk-toggleable__content {\n",
       "  max-height: 0;\n",
       "  max-width: 0;\n",
       "  overflow: hidden;\n",
       "  text-align: left;\n",
       "  /* unfitted */\n",
       "  background-color: var(--sklearn-color-unfitted-level-0);\n",
       "}\n",
       "\n",
       "#sk-container-id-3 div.sk-toggleable__content.fitted {\n",
       "  /* fitted */\n",
       "  background-color: var(--sklearn-color-fitted-level-0);\n",
       "}\n",
       "\n",
       "#sk-container-id-3 div.sk-toggleable__content pre {\n",
       "  margin: 0.2em;\n",
       "  border-radius: 0.25em;\n",
       "  color: var(--sklearn-color-text);\n",
       "  /* unfitted */\n",
       "  background-color: var(--sklearn-color-unfitted-level-0);\n",
       "}\n",
       "\n",
       "#sk-container-id-3 div.sk-toggleable__content.fitted pre {\n",
       "  /* unfitted */\n",
       "  background-color: var(--sklearn-color-fitted-level-0);\n",
       "}\n",
       "\n",
       "#sk-container-id-3 input.sk-toggleable__control:checked~div.sk-toggleable__content {\n",
       "  /* Expand drop-down */\n",
       "  max-height: 200px;\n",
       "  max-width: 100%;\n",
       "  overflow: auto;\n",
       "}\n",
       "\n",
       "#sk-container-id-3 input.sk-toggleable__control:checked~label.sk-toggleable__label-arrow:before {\n",
       "  content: \"▾\";\n",
       "}\n",
       "\n",
       "/* Pipeline/ColumnTransformer-specific style */\n",
       "\n",
       "#sk-container-id-3 div.sk-label input.sk-toggleable__control:checked~label.sk-toggleable__label {\n",
       "  color: var(--sklearn-color-text);\n",
       "  background-color: var(--sklearn-color-unfitted-level-2);\n",
       "}\n",
       "\n",
       "#sk-container-id-3 div.sk-label.fitted input.sk-toggleable__control:checked~label.sk-toggleable__label {\n",
       "  background-color: var(--sklearn-color-fitted-level-2);\n",
       "}\n",
       "\n",
       "/* Estimator-specific style */\n",
       "\n",
       "/* Colorize estimator box */\n",
       "#sk-container-id-3 div.sk-estimator input.sk-toggleable__control:checked~label.sk-toggleable__label {\n",
       "  /* unfitted */\n",
       "  background-color: var(--sklearn-color-unfitted-level-2);\n",
       "}\n",
       "\n",
       "#sk-container-id-3 div.sk-estimator.fitted input.sk-toggleable__control:checked~label.sk-toggleable__label {\n",
       "  /* fitted */\n",
       "  background-color: var(--sklearn-color-fitted-level-2);\n",
       "}\n",
       "\n",
       "#sk-container-id-3 div.sk-label label.sk-toggleable__label,\n",
       "#sk-container-id-3 div.sk-label label {\n",
       "  /* The background is the default theme color */\n",
       "  color: var(--sklearn-color-text-on-default-background);\n",
       "}\n",
       "\n",
       "/* On hover, darken the color of the background */\n",
       "#sk-container-id-3 div.sk-label:hover label.sk-toggleable__label {\n",
       "  color: var(--sklearn-color-text);\n",
       "  background-color: var(--sklearn-color-unfitted-level-2);\n",
       "}\n",
       "\n",
       "/* Label box, darken color on hover, fitted */\n",
       "#sk-container-id-3 div.sk-label.fitted:hover label.sk-toggleable__label.fitted {\n",
       "  color: var(--sklearn-color-text);\n",
       "  background-color: var(--sklearn-color-fitted-level-2);\n",
       "}\n",
       "\n",
       "/* Estimator label */\n",
       "\n",
       "#sk-container-id-3 div.sk-label label {\n",
       "  font-family: monospace;\n",
       "  font-weight: bold;\n",
       "  display: inline-block;\n",
       "  line-height: 1.2em;\n",
       "}\n",
       "\n",
       "#sk-container-id-3 div.sk-label-container {\n",
       "  text-align: center;\n",
       "}\n",
       "\n",
       "/* Estimator-specific */\n",
       "#sk-container-id-3 div.sk-estimator {\n",
       "  font-family: monospace;\n",
       "  border: 1px dotted var(--sklearn-color-border-box);\n",
       "  border-radius: 0.25em;\n",
       "  box-sizing: border-box;\n",
       "  margin-bottom: 0.5em;\n",
       "  /* unfitted */\n",
       "  background-color: var(--sklearn-color-unfitted-level-0);\n",
       "}\n",
       "\n",
       "#sk-container-id-3 div.sk-estimator.fitted {\n",
       "  /* fitted */\n",
       "  background-color: var(--sklearn-color-fitted-level-0);\n",
       "}\n",
       "\n",
       "/* on hover */\n",
       "#sk-container-id-3 div.sk-estimator:hover {\n",
       "  /* unfitted */\n",
       "  background-color: var(--sklearn-color-unfitted-level-2);\n",
       "}\n",
       "\n",
       "#sk-container-id-3 div.sk-estimator.fitted:hover {\n",
       "  /* fitted */\n",
       "  background-color: var(--sklearn-color-fitted-level-2);\n",
       "}\n",
       "\n",
       "/* Specification for estimator info (e.g. \"i\" and \"?\") */\n",
       "\n",
       "/* Common style for \"i\" and \"?\" */\n",
       "\n",
       ".sk-estimator-doc-link,\n",
       "a:link.sk-estimator-doc-link,\n",
       "a:visited.sk-estimator-doc-link {\n",
       "  float: right;\n",
       "  font-size: smaller;\n",
       "  line-height: 1em;\n",
       "  font-family: monospace;\n",
       "  background-color: var(--sklearn-color-background);\n",
       "  border-radius: 1em;\n",
       "  height: 1em;\n",
       "  width: 1em;\n",
       "  text-decoration: none !important;\n",
       "  margin-left: 1ex;\n",
       "  /* unfitted */\n",
       "  border: var(--sklearn-color-unfitted-level-1) 1pt solid;\n",
       "  color: var(--sklearn-color-unfitted-level-1);\n",
       "}\n",
       "\n",
       ".sk-estimator-doc-link.fitted,\n",
       "a:link.sk-estimator-doc-link.fitted,\n",
       "a:visited.sk-estimator-doc-link.fitted {\n",
       "  /* fitted */\n",
       "  border: var(--sklearn-color-fitted-level-1) 1pt solid;\n",
       "  color: var(--sklearn-color-fitted-level-1);\n",
       "}\n",
       "\n",
       "/* On hover */\n",
       "div.sk-estimator:hover .sk-estimator-doc-link:hover,\n",
       ".sk-estimator-doc-link:hover,\n",
       "div.sk-label-container:hover .sk-estimator-doc-link:hover,\n",
       ".sk-estimator-doc-link:hover {\n",
       "  /* unfitted */\n",
       "  background-color: var(--sklearn-color-unfitted-level-3);\n",
       "  color: var(--sklearn-color-background);\n",
       "  text-decoration: none;\n",
       "}\n",
       "\n",
       "div.sk-estimator.fitted:hover .sk-estimator-doc-link.fitted:hover,\n",
       ".sk-estimator-doc-link.fitted:hover,\n",
       "div.sk-label-container:hover .sk-estimator-doc-link.fitted:hover,\n",
       ".sk-estimator-doc-link.fitted:hover {\n",
       "  /* fitted */\n",
       "  background-color: var(--sklearn-color-fitted-level-3);\n",
       "  color: var(--sklearn-color-background);\n",
       "  text-decoration: none;\n",
       "}\n",
       "\n",
       "/* Span, style for the box shown on hovering the info icon */\n",
       ".sk-estimator-doc-link span {\n",
       "  display: none;\n",
       "  z-index: 9999;\n",
       "  position: relative;\n",
       "  font-weight: normal;\n",
       "  right: .2ex;\n",
       "  padding: .5ex;\n",
       "  margin: .5ex;\n",
       "  width: min-content;\n",
       "  min-width: 20ex;\n",
       "  max-width: 50ex;\n",
       "  color: var(--sklearn-color-text);\n",
       "  box-shadow: 2pt 2pt 4pt #999;\n",
       "  /* unfitted */\n",
       "  background: var(--sklearn-color-unfitted-level-0);\n",
       "  border: .5pt solid var(--sklearn-color-unfitted-level-3);\n",
       "}\n",
       "\n",
       ".sk-estimator-doc-link.fitted span {\n",
       "  /* fitted */\n",
       "  background: var(--sklearn-color-fitted-level-0);\n",
       "  border: var(--sklearn-color-fitted-level-3);\n",
       "}\n",
       "\n",
       ".sk-estimator-doc-link:hover span {\n",
       "  display: block;\n",
       "}\n",
       "\n",
       "/* \"?\"-specific style due to the `<a>` HTML tag */\n",
       "\n",
       "#sk-container-id-3 a.estimator_doc_link {\n",
       "  float: right;\n",
       "  font-size: 1rem;\n",
       "  line-height: 1em;\n",
       "  font-family: monospace;\n",
       "  background-color: var(--sklearn-color-background);\n",
       "  border-radius: 1rem;\n",
       "  height: 1rem;\n",
       "  width: 1rem;\n",
       "  text-decoration: none;\n",
       "  /* unfitted */\n",
       "  color: var(--sklearn-color-unfitted-level-1);\n",
       "  border: var(--sklearn-color-unfitted-level-1) 1pt solid;\n",
       "}\n",
       "\n",
       "#sk-container-id-3 a.estimator_doc_link.fitted {\n",
       "  /* fitted */\n",
       "  border: var(--sklearn-color-fitted-level-1) 1pt solid;\n",
       "  color: var(--sklearn-color-fitted-level-1);\n",
       "}\n",
       "\n",
       "/* On hover */\n",
       "#sk-container-id-3 a.estimator_doc_link:hover {\n",
       "  /* unfitted */\n",
       "  background-color: var(--sklearn-color-unfitted-level-3);\n",
       "  color: var(--sklearn-color-background);\n",
       "  text-decoration: none;\n",
       "}\n",
       "\n",
       "#sk-container-id-3 a.estimator_doc_link.fitted:hover {\n",
       "  /* fitted */\n",
       "  background-color: var(--sklearn-color-fitted-level-3);\n",
       "}\n",
       "</style><div id=\"sk-container-id-3\" class=\"sk-top-container\"><div class=\"sk-text-repr-fallback\"><pre>RandomForestClassifier(max_depth=50, max_features=50, n_estimators=1000,\n",
       "                       random_state=13)</pre><b>In a Jupyter environment, please rerun this cell to show the HTML representation or trust the notebook. <br />On GitHub, the HTML representation is unable to render, please try loading this page with nbviewer.org.</b></div><div class=\"sk-container\" hidden><div class=\"sk-item\"><div class=\"sk-estimator fitted sk-toggleable\"><input class=\"sk-toggleable__control sk-hidden--visually\" id=\"sk-estimator-id-3\" type=\"checkbox\" checked><label for=\"sk-estimator-id-3\" class=\"sk-toggleable__label fitted sk-toggleable__label-arrow fitted\">&nbsp;&nbsp;RandomForestClassifier<a class=\"sk-estimator-doc-link fitted\" rel=\"noreferrer\" target=\"_blank\" href=\"https://scikit-learn.org/1.5/modules/generated/sklearn.ensemble.RandomForestClassifier.html\">?<span>Documentation for RandomForestClassifier</span></a><span class=\"sk-estimator-doc-link fitted\">i<span>Fitted</span></span></label><div class=\"sk-toggleable__content fitted\"><pre>RandomForestClassifier(max_depth=50, max_features=50, n_estimators=1000,\n",
       "                       random_state=13)</pre></div> </div></div></div></div>"
      ],
      "text/plain": [
       "RandomForestClassifier(max_depth=50, max_features=50, n_estimators=1000,\n",
       "                       random_state=13)"
      ]
     },
     "execution_count": 63,
     "metadata": {},
     "output_type": "execute_result"
    }
   ],
   "source": [
    "rf1.fit(x_train, y_train)"
   ]
  },
  {
   "cell_type": "code",
   "execution_count": 64,
   "id": "895e4fda-a2fa-4451-9740-47392092c1be",
   "metadata": {},
   "outputs": [],
   "source": [
    "pred_rf = rf.predict(x_test)"
   ]
  },
  {
   "cell_type": "code",
   "execution_count": 65,
   "id": "945e8446-21f9-40de-91c3-86603ce6f810",
   "metadata": {},
   "outputs": [
    {
     "data": {
      "image/png": "[encoded data removed]",
      "text/plain": [
       "<Figure size 640x480 with 2 Axes>"
      ]
     },
     "metadata": {},
     "output_type": "display_data"
    }
   ],
   "source": [
    "cnf_matrix = confusion_matrix(y_test, pred_rf1) # assign what to use in plot\n",
    "disp = ConfusionMatrixDisplay(confusion_matrix=cnf_matrix, display_labels=rf1.classes_) # create plot\n",
    "disp.plot(cmap=plt.cm.Blues); # output"
   ]
  },
  {
   "cell_type": "code",
   "execution_count": 66,
   "id": "1a9e530e-f292-4f3f-a082-db09e1aa808a",
   "metadata": {},
   "outputs": [
    {
     "name": "stdout",
     "output_type": "stream",
     "text": [
      "accuracy: 0.9051918735891648\n",
      "precision: 0.9129298402068504\n",
      "recall: 0.8905599320972919\n",
      "f1 score: 0.8988408507676917\n"
     ]
    }
   ],
   "source": [
    "get_metrics(y_test, pred_rf1)"
   ]
  },
  {
   "cell_type": "markdown",
   "id": "9922d12c-c579-40bf-87c7-13f46e04c788",
   "metadata": {},
   "source": [
    "---\n",
    "# Conclusion\n",
    "This conclusion will include three short subsections breaking down the evaluation on the modeling process."
   ]
  },
  {
   "cell_type": "markdown",
   "id": "dce2be1e-1fd0-45a7-bc72-6608b77fbf0d",
   "metadata": {},
   "source": [
    "## Evaluation\n",
    "\n",
    "To evaluate the model, we used _precision_, a measurment of the _false positive_ rate. This is important to us as a loan company as this metric can falsely predcit a student to graduate. This impacts us because a student that does not gradute is unlikely to get a job that can support repaying the loan we provided. "
   ]
  },
  {
   "cell_type": "markdown",
   "id": "d40a35d5-0959-432b-9432-49e9bdcce511",
   "metadata": {},
   "source": [
    "## Review\n",
    "\n",
    "Pitting the two models against each other, neural networks with `Keras` and `RandomForestClassfifer`, we found for this specifc dataset and business problem, `RandomForestClassfifer` came out on top by 4% relating to the precision score. For this reason, the `RandomForestClassfifer` model is the model we will move forward with."
   ]
  },
  {
   "cell_type": "markdown",
   "id": "d46bd129-d5f1-4ca6-a5d5-4c3c884916a8",
   "metadata": {},
   "source": [
    "## Next Steps\n",
    "\n",
    "If this model is acceped as sufficeient, the next step will be deployment (and iteratins as needed), as outlined in the CRISP-DM model."
   ]
  }
 ],
 "metadata": {
  "kernelspec": {
   "display_name": "Python 3 (ipykernel)",
   "language": "python",
   "name": "python3"
  },
  "language_info": {
   "codemirror_mode": {
    "name": "ipython",
    "version": 3
   },
   "file_extension": ".py",
   "mimetype": "text/x-python",
   "name": "python",
   "nbconvert_exporter": "python",
   "pygments_lexer": "ipython3",
   "version": "3.12.3"
  }
 },
 "nbformat": 4,
 "nbformat_minor": 5
}
